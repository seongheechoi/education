{
  "cells": [
    {
      "cell_type": "markdown",
      "metadata": {
        "id": "view-in-github",
        "colab_type": "text"
      },
      "source": [
        "<a href=\"https://colab.research.google.com/github/seongheechoi/education/blob/main/01_Word_Embedding.ipynb\" target=\"_parent\"><img src=\"https://colab.research.google.com/assets/colab-badge.svg\" alt=\"Open In Colab\"/></a>"
      ]
    },
    {
      "cell_type": "code",
      "source": [
        "import numpy as np\n",
        "import torch\n",
        "import torch.nn.functional as F"
      ],
      "metadata": {
        "id": "CA71eNXQRF8S"
      },
      "execution_count": null,
      "outputs": []
    },
    {
      "cell_type": "markdown",
      "source": [
        "# Representing Words\n",
        "\n",
        "**워드 임베딩(Word Embedding)**은 자연어처리(NLP)에서 기계가 자연어를 이해할 수 있도록 수치화하여 단어들의 의미를 표현해주는 방식입니다.\n",
        "\n",
        "일반적으로 비슷한 context에서 사용된 단어는 유사한 의미를 가지는 경향이 있습니다. 워드 임베딩은 이러한 아이디어를 바탕으로 비슷한 컨텍스트를 공유하는 단어는 다차원의 벡터 의미 공간 안에서 비슷한 위치에 표현하도록 하는 것입니다. 즉, 쉽게 말하면, 유사한 단어는 유사한 벡터를 지닌다는 의미입니다.\n",
        "\n",
        "그렇다면 어떻게 '단어'를 벡터로 만들까요? 우선, 가지고 있는 데이터를 적절하게 전처리하는 과정에 대해 먼저 실습해보겠습니다.\n"
      ],
      "metadata": {
        "id": "uEnbHMClzx8b"
      }
    },
    {
      "cell_type": "markdown",
      "metadata": {
        "id": "34dNs8q79ME8"
      },
      "source": [
        "## 1) Text Preprocessing\n",
        "\n",
        "딥러닝으로 자연어 처리를 해 봅시다. 이때, 가지고 있는 텍스트 데이터를 풀고자 하는 문제의 용도에 맞게 사전에 처리하지 않으면, 이후의 자연어 처리 기법들이 제대로 동작하지 않을 수 있습니다. 이러한 사전 처리 과정을 **텍스트 전처리 (Text Preprocessing)**라고 합니다.\n",
        "\n",
        "아래의 예시 Corpus부터 시작해 봅시다."
      ]
    },
    {
      "cell_type": "code",
      "execution_count": null,
      "metadata": {
        "id": "fxCef4Iu8vyI"
      },
      "outputs": [],
      "source": [
        "corpus = [\n",
        "    'he is a king',\n",
        "    'she is a queen',\n",
        "    'he is a man',\n",
        "    'she is a woman',\n",
        "    'warsaw is poland capital',\n",
        "    'berlin is germany capital',\n",
        "    'paris is france capital',\n",
        "]"
      ]
    },
    {
      "cell_type": "markdown",
      "metadata": {
        "id": "3r2DQWv59278"
      },
      "source": [
        "\n",
        "### Word Tokenization\n",
        "\n",
        "주어진 코퍼스(corpus)에서 토큰(token)이라 불리는 단위로 나누는 작업을 토큰화(tokenization)라고 합니다. 토큰의 단위가 상황에 따라 다르지만, 보통 의미있는 단위로 토큰을 정의합니다. 만약 토큰의 기준을 단어(word)로 하는 경우, **단어 토큰화(word tokenization)**라고 합니다.\n",
        "\n",
        "영어는 참 간편하게도, 띄어쓰기 단위로 단어가 분리됩니다. 문장을 단어로 쪼개 보겠습니다"
      ]
    },
    {
      "cell_type": "code",
      "execution_count": null,
      "metadata": {
        "id": "-hLO26XC92VV"
      },
      "outputs": [],
      "source": [
        "def tokenize_corpus(corpus):  # corpus를 띄어쓰기 단위로 분리하는 함수\n",
        "    tokens = [x.split() for x in corpus]\n",
        "    return tokens"
      ]
    },
    {
      "cell_type": "code",
      "source": [
        "tokenized_corpus = tokenize_corpus(corpus)\n",
        "print(tokenized_corpus)"
      ],
      "metadata": {
        "colab": {
          "base_uri": "https://localhost:8080/"
        },
        "id": "b6OO1JKP3oVV",
        "outputId": "049ca273-cd8a-4ce3-f6b1-cc5868fbde64"
      },
      "execution_count": null,
      "outputs": [
        {
          "output_type": "stream",
          "name": "stdout",
          "text": [
            "[['he', 'is', 'a', 'king'], ['she', 'is', 'a', 'queen'], ['he', 'is', 'a', 'man'], ['she', 'is', 'a', 'woman'], ['warsaw', 'is', 'poland', 'capital'], ['berlin', 'is', 'germany', 'capital'], ['paris', 'is', 'france', 'capital']]\n"
          ]
        }
      ]
    },
    {
      "cell_type": "markdown",
      "metadata": {
        "id": "2UJ-FVnW-Q0z"
      },
      "source": [
        "중복된 단어들이 보입니다. 이들을 전부 모아 하나의 'vocabulary' 로 관리하도록 하겠습니다."
      ]
    },
    {
      "cell_type": "code",
      "execution_count": null,
      "metadata": {
        "colab": {
          "base_uri": "https://localhost:8080/"
        },
        "id": "o42RB2v_-Fr-",
        "outputId": "0b66b839-e63d-46c2-d370-71e3c9c2071d"
      },
      "outputs": [
        {
          "output_type": "stream",
          "name": "stdout",
          "text": [
            "['he', 'is', 'a', 'king', 'she', 'queen', 'man', 'woman', 'warsaw', 'poland', 'capital', 'berlin', 'germany', 'paris', 'france']\n"
          ]
        }
      ],
      "source": [
        "vocabulary = []\n",
        "for sentence in tokenized_corpus:\n",
        "    for token in sentence:\n",
        "        if token not in vocabulary:\n",
        "            vocabulary.append(token)\n",
        "print(vocabulary)\n"
      ]
    },
    {
      "cell_type": "markdown",
      "source": [
        "### Integer Encoding\n",
        "\n",
        "컴퓨터는 텍스트보다는 숫자를 더 잘 처리 할 수 있습니다. 이를 위해 자연어 처리에서는 **텍스트를 숫자로 바꾸는 여러가지 기법**들이 있습니다. 그리고 이러한 기법들을 본격적으로 적용시키기 위한 첫 단계로 **각 단어를 고유한 정수에 맵핑(mapping)**시키는 전처리 작업이 필요합니다.\n",
        "\n",
        "예를 들어 갖고 있는 텍스트에 단어가 5,000개가 있다면, 5,000개의 단어들 각각에 1번부터 5,000번까지 단어와 맵핑되는 고유한 정수. 다른 표현으로는 인덱스를 부여합니다."
      ],
      "metadata": {
        "id": "ObGNv32r7Bvh"
      }
    },
    {
      "cell_type": "code",
      "execution_count": null,
      "metadata": {
        "id": "4_WOUSvA-WD5",
        "colab": {
          "base_uri": "https://localhost:8080/"
        },
        "outputId": "a7e3c568-78c8-4ac4-c6bd-927e385f653f"
      },
      "outputs": [
        {
          "output_type": "stream",
          "name": "stdout",
          "text": [
            "Total vocabulary size: 15\n"
          ]
        }
      ],
      "source": [
        "word2idx = {w: idx for (idx, w) in enumerate(vocabulary)} # key=단어, value=인덱스\n",
        "idx2word = {idx: w for (idx, w) in enumerate(vocabulary)} # key=인덱스, value=단어\n",
        "\n",
        "vocabulary_size = len(vocabulary)\n",
        "print(\"Total vocabulary size:\", vocabulary_size)"
      ]
    },
    {
      "cell_type": "code",
      "source": [
        "print(\"Word2Idx (단어: 인덱스)\")\n",
        "print(word2idx)"
      ],
      "metadata": {
        "colab": {
          "base_uri": "https://localhost:8080/"
        },
        "id": "g0DOPSV1aoBM",
        "outputId": "6afb1c61-566d-477b-cba4-4ad2365fd938"
      },
      "execution_count": null,
      "outputs": [
        {
          "output_type": "stream",
          "name": "stdout",
          "text": [
            "Word2Idx (단어: 인덱스)\n",
            "{'he': 0, 'is': 1, 'a': 2, 'king': 3, 'she': 4, 'queen': 5, 'man': 6, 'woman': 7, 'warsaw': 8, 'poland': 9, 'capital': 10, 'berlin': 11, 'germany': 12, 'paris': 13, 'france': 14}\n"
          ]
        }
      ]
    },
    {
      "cell_type": "code",
      "source": [
        "print(\"Idx2Word (인덱스: 단어)\")\n",
        "print(idx2word)"
      ],
      "metadata": {
        "colab": {
          "base_uri": "https://localhost:8080/"
        },
        "id": "CZ4YVHWAarvY",
        "outputId": "f0325010-ecc5-43ac-8a09-44b975469669"
      },
      "execution_count": null,
      "outputs": [
        {
          "output_type": "stream",
          "name": "stdout",
          "text": [
            "Idx2Word (인덱스: 단어)\n",
            "{0: 'he', 1: 'is', 2: 'a', 3: 'king', 4: 'she', 5: 'queen', 6: 'man', 7: 'woman', 8: 'warsaw', 9: 'poland', 10: 'capital', 11: 'berlin', 12: 'germany', 13: 'paris', 14: 'france'}\n"
          ]
        }
      ]
    },
    {
      "cell_type": "markdown",
      "source": [
        "## 2) Sparse Representation"
      ],
      "metadata": {
        "id": "vykQEHqiMQp1"
      }
    },
    {
      "cell_type": "markdown",
      "source": [
        "\n",
        "### One-Hot Vector"
      ],
      "metadata": {
        "id": "Z8p3hBJw_Pgi"
      }
    },
    {
      "cell_type": "markdown",
      "metadata": {
        "id": "FLrLjCwk-ojJ"
      },
      "source": [
        "자연어 처리에서는 문자를 숫자로 바꾸는 여러가지 기법 중 **원-핫 인코딩(One-Hot Encoding)**은 단어를 표현하는 가장 기본적인 표현 방법입니다.\n",
        "\n",
        "원-핫 인코딩을 위해서 먼저 해야할 일은 **단어 집합(vocabulary)**을 만드는 일입니다. 텍스트의 모든 단어를 중복을 허용하지 않고 모아놓으면 이를 단어 집합이라고 합니다. 그리고 이 단어 집합에 고유한 정수를 부여하는 **정수 인코딩(Interger Encoding)**을 진행합니다. 우리는 이 과정을 이미 앞에서 진행했습니다.\n",
        "\n",
        "원-핫 인코딩은 vocabulary의 크기를 벡터의 차원으로 하고, **표현하고 싶은 단어의 인덱스에 1의 값을 부여하고, 다른 인덱스에는 0을 부여**하는 단어의 벡터 표현 방식입니다. 이렇게 표현된 벡터를 **원-핫 벡터(One-Hot vector)**라고 합니다.\n",
        "\n",
        "예를 들어, `he` 같은 단어는 [1,0,0,0, ... ,0] 과 같은 one hot 벡터로 나타낼수 있습니다. 이렇게 벡터 또는 행렬(matrix)의 값이 대부분이 0으로 표현되는 방법을 **희소 표현(sparse representation)**이라고 합니다."
      ]
    },
    {
      "cell_type": "code",
      "execution_count": null,
      "metadata": {
        "id": "1cEpJn81FS_c"
      },
      "outputs": [],
      "source": [
        "def one_hot_vector(word_idx): # word를 one-hot vector로 바꾸는 함수\n",
        "    x = torch.zeros(vocabulary_size).float()\n",
        "    x[word_idx] = 1.0\n",
        "    return x"
      ]
    },
    {
      "cell_type": "code",
      "source": [
        "word = \"he\"\n",
        "word_idx = word2idx[word]\n",
        "one_hot_he = one_hot_vector(word_idx)\n",
        "\n",
        "print(one_hot_he)"
      ],
      "metadata": {
        "colab": {
          "base_uri": "https://localhost:8080/"
        },
        "id": "2TsM-cIoGmQ3",
        "outputId": "6659fe0d-cdde-4977-fe8c-c1323a4ef2d0"
      },
      "execution_count": null,
      "outputs": [
        {
          "output_type": "stream",
          "name": "stdout",
          "text": [
            "tensor([1., 0., 0., 0., 0., 0., 0., 0., 0., 0., 0., 0., 0., 0., 0.])\n"
          ]
        }
      ]
    },
    {
      "cell_type": "markdown",
      "metadata": {
        "id": "4QkfPvOz_RDE"
      },
      "source": [
        "One-hot 은 0 과 1만을 사용하여 간단합니다. 그러나 이러한 희소 벡터의 문제점은 **단어의 개수가 늘어나면 벡터의 차원이 한없이 커진다**는 점입니다. 예를 들어, 코퍼스에 단어가 10,000개였다면 벡터의 차원은 10,000이어야만 하고, 그 중에서 단어의 인덱스에 해당되는 부분만 1이고 나머지는 0의 값을 가집니다.\n",
        "\n",
        "또한, **단어의 의미를 표현하지 못한다**는 문제점도 가지고 있습니다."
      ]
    },
    {
      "cell_type": "markdown",
      "source": [
        "## 3) Dense Representation\n",
        "밀집 표현은 벡터의 차원을 단어 집합의 크기로 상정하지 않습니다. **사용자가 설정한 값으로 모든 단어의 벡터 표현의 차원을 맞춥니다.**\n",
        "\n",
        "또한, 이 과정에서 더 이상 0과 1만 가진 값이 아니라 **실수값**을 가지게 됩니다. 이를 통해, 정보량을 유지하면서도 길이를 줄일 수 있습니다.\n",
        "\n",
        "예를 들어, he = [0.4, 0.7, ... 0.2]와 같이 나타낼 수 있고, 이렇게 대부분의 값이 0이 아닌 값으로 표현되는 벡터나 행렬을 **밀집 표현(dense representation)**이라고 합니다."
      ],
      "metadata": {
        "id": "peK54FhHMVDN"
      }
    },
    {
      "cell_type": "markdown",
      "metadata": {
        "id": "7qMzL_5XE1kV"
      },
      "source": [
        "\n",
        "\n",
        "### Embedding Vector\n",
        "단어를 밀집 벡터(dense vector)의 형태로 표현하는 방법을 **워드 임베딩(word embedding)**이라고 합니다. 그리고 이 밀집 벡터를 워드 임베딩 과정을 통해 나온 결과라고 하여 **임베딩 벡터(embedding vector)**라고도 합니다.\n",
        "\n",
        "Dense Representation 을 사용해야 하는 이유는, 물론 크기가 더 작아 효율적인 측면도 있지만, **단어의 의미를 반영하여 단어 간 유사도를 구할 수 있기 때문**입니다."
      ]
    },
    {
      "cell_type": "markdown",
      "source": [
        "# Word Embedding"
      ],
      "metadata": {
        "id": "4DAJ5TXaOqNP"
      }
    },
    {
      "cell_type": "markdown",
      "metadata": {
        "id": "LnWKIjezC7Zx"
      },
      "source": [
        "그렇다면 무엇을 기준으로 vector 를 만들어야 할까요?\n",
        "\n",
        "실제 NLP 에서 제일 중요하게 생각하는 것은, **단어 간 유사도**입니다.\n",
        "dog 나 pet 같은 단어들은 의미가 비슷합니다. 따라서, 인코딩을 했을 때 '유사도' 에 대한 정보를 담아야 합니다.\n",
        "\n",
        "\n",
        "단어를 인코딩시키는 함수 W를 생각해 봅시다.\n",
        "\n",
        "W('woman') - W('man') $\\approx$ W('queen') - W('king')\n",
        "\n",
        "다음과 같은 규칙을 가질수 있다면, W는 굉장히 좋은 인코딩 함수입니다\n",
        "\n",
        "또한, 다음의 기능을 할 수도 있으면 정말 좋을것 같네요\n",
        "\n",
        "W('Nation') $\\approx$ W('Korea') - W('Seoul')\n",
        "\n",
        "이렇게 W를 통해 단어를 벡터로 '잘' 바꾸는 것을 word embedding 이라고 합니다."
      ]
    },
    {
      "cell_type": "markdown",
      "metadata": {
        "id": "LrrXMaJkD34C"
      },
      "source": [
        "\n",
        "\n",
        "한글 Word2Vec:\n",
        "http://w.elnn.kr/search/\n",
        "\n",
        "\n",
        "![image.png](data:image/png;base64,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)"
      ]
    },
    {
      "cell_type": "markdown",
      "metadata": {
        "id": "ccH9tmmPEa4a"
      },
      "source": [
        "그렇다면 이 W를 어떻게 구할까요?\n",
        "\n",
        "우리는 이러한 task 를 매우 잘 하는 프로그램을 이미 알고 있습니다. 바로 DNN이죠.\n",
        "\n",
        "Word2vec의 학습과정을 시각화한 링크:\n",
        "https://ronxin.github.io/wevi/\n",
        "\n"
      ]
    },
    {
      "cell_type": "markdown",
      "metadata": {
        "id": "3rOykl-hIhxO"
      },
      "source": [
        "## 1) word2vec\n",
        "이어서 대표적인 word embedding 중 word2vec 에 대하여 설명하겠습니다\n",
        "\n",
        "우리는 단어간의 유사도를 표현해야 합니다.\n",
        "\n",
        "그렇다면 이 정보를 어떻게 구할수 있을까요?\n",
        "\n",
        "\n",
        "답은 문장의 '맥락' 속에 있습니다. 따라서, 빈칸에 어떤 단어가 들어가야하는지 유추하면서 모델을 학습시킬수 있습니다.\n",
        "\n",
        "문장의 맥락 또한 여러가지가 있습니다.\n",
        "\n",
        "1. You ___ goodbye and I say hello. -> CBOW\n",
        "\n",
        "2. ___ say ___  -> Skip-Gram\n",
        "\n",
        "(참고로, 여러 논문에서 성능 비교를 진행했을 때 전반적으로 Skip-gram이 CBOW보다 성능이 좋다고 알려져 있습니다.)"
      ]
    },
    {
      "cell_type": "markdown",
      "source": [
        "### CBOW\n",
        " 예측해야하는 단어를 **중심 단어(center word)**라고 하고, 예측에 사용되는 단어들을 **주변 단어(context word)**라고 합니다. 중심 단어를 예측하기 위해서 앞, 뒤로 몇 개의 단어를 볼지를 결정해야 하는데 이 범위를 **윈도우(window)**라고 합니다. **윈도우 크기(window size)가 n이라고 한다면, 실제 중심 단어를 예측하기 위해 참고하려고 하는 주변 단어의 개수는 2n**입니다.\n",
        "\n",
        " 아래 그림은 window size = 2인 경우, 슬라이딩 윈도우가 어떤 식으로 이루어지면서 데이터 셋을 만드는지 보여줍니다."
      ],
      "metadata": {
        "id": "h0Dv7gklbYVr"
      }
    },
    {
      "cell_type": "markdown",
      "metadata": {
        "id": "mKpV9RnwI12H"
      },
      "source": [
        "\n",
        "\n",
        "<div>\n",
        "<img src=https://i.imgur.com/8zNRwsn.png with=\"500\"/>\n",
        "</div"
      ]
    },
    {
      "cell_type": "code",
      "execution_count": null,
      "metadata": {
        "id": "tIckW5bl-kux"
      },
      "outputs": [],
      "source": [
        "window_size = 2\n",
        "idx_pairs = []\n",
        "# for each sentence\n",
        "for sentence in tokenized_corpus:\n",
        "    indices = [word2idx[word] for word in sentence]\n",
        "    # for each word, threated as center word\n",
        "    for center_word_pos in range(len(indices)):\n",
        "        # for each window position\n",
        "        for w in range(-window_size, window_size + 1):\n",
        "            context_word_pos = center_word_pos + w\n",
        "            # make soure not jump out sentence\n",
        "            if context_word_pos < 0 or context_word_pos >= len(indices) or center_word_pos == context_word_pos:\n",
        "                continue\n",
        "            context_word_idx = indices[context_word_pos]\n",
        "            idx_pairs.append((indices[center_word_pos], context_word_idx))\n",
        "\n",
        "idx_pairs = np.array(idx_pairs)\n"
      ]
    },
    {
      "cell_type": "code",
      "source": [
        "print(idx_pairs[:10])"
      ],
      "metadata": {
        "colab": {
          "base_uri": "https://localhost:8080/"
        },
        "id": "y1Qejma3vB3O",
        "outputId": "b7ff55e7-bade-4e0e-b162-9002aad89bef"
      },
      "execution_count": null,
      "outputs": [
        {
          "output_type": "stream",
          "name": "stdout",
          "text": [
            "[[0 1]\n",
            " [0 2]\n",
            " [1 0]\n",
            " [1 2]\n",
            " [1 3]\n",
            " [2 0]\n",
            " [2 1]\n",
            " [2 3]\n",
            " [3 1]\n",
            " [3 2]]\n"
          ]
        }
      ]
    },
    {
      "cell_type": "markdown",
      "metadata": {
        "id": "QQk74l4tJq4F"
      },
      "source": [
        "\n",
        "<div>\n",
        "<img src=https://img1.daumcdn.net/thumb/R1280x0/?scode=mtistory2&fname=https%3A%2F%2Fblog.kakaocdn.net%2Fdn%2F2Qj2I%2Fbtrb7zSiErG%2FfxZChADnf1iQ7zCx43W5o0%2Fimg.png width=\"500\">\n",
        "</div>"
      ]
    },
    {
      "cell_type": "markdown",
      "metadata": {
        "id": "i81VZp49JyU3"
      },
      "source": [
        "<div>\n",
        "<img src=https://img1.daumcdn.net/thumb/R1280x0/?scode=mtistory2&fname=https%3A%2F%2Fblog.kakaocdn.net%2Fdn%2FbALgGX%2Fbtrb83yAU6c%2FBEqtjlopdhVwR2h6OmzboK%2Fimg.png width=\"500\">\n",
        "</div>"
      ]
    },
    {
      "cell_type": "markdown",
      "metadata": {
        "id": "XASHGG9kSRt7"
      },
      "source": [
        "사실 이 그림에 재미있는 함정이 숨어있는데, 바로 v 만이 임베딩을 하는 W가 아니라는 점 입니다.\n",
        "\n",
        "u 또한 W로서의 기능을 수행할 수 있습니다.\n",
        "\n",
        "일반적으로 v 나 u 모두 사용이 가능하며, 때론 두 벡터의 평균을 사용하기도 합니다"
      ]
    },
    {
      "cell_type": "code",
      "execution_count": null,
      "metadata": {
        "colab": {
          "base_uri": "https://localhost:8080/"
        },
        "id": "HLJtCx3SLZmy",
        "outputId": "a1e6ebcb-b5e9-42d8-9072-527ac3cf3fb6"
      },
      "outputs": [
        {
          "output_type": "stream",
          "name": "stdout",
          "text": [
            "Loss at epoch 0: 4.039266586303711\n",
            "Loss at epoch 10: 3.740920066833496\n",
            "Loss at epoch 20: 3.523824453353882\n",
            "Loss at epoch 30: 3.355302095413208\n",
            "Loss at epoch 40: 3.219723701477051\n",
            "Loss at epoch 50: 3.1077206134796143\n",
            "Loss at epoch 60: 3.013176441192627\n",
            "Loss at epoch 70: 2.931994915008545\n",
            "Loss at epoch 80: 2.8613662719726562\n",
            "Loss at epoch 90: 2.7992725372314453\n"
          ]
        }
      ],
      "source": [
        "embedding_dims = 5 # 각 단어 벡터의 차원\n",
        "\n",
        "D, V = embedding_dims, vocabulary_size\n",
        "\n",
        "# hidden layer\n",
        "W1 = torch.randn(D, V, requires_grad=True)\n",
        "# output layer\n",
        "W2 = torch.randn(V, D, requires_grad=True)\n",
        "\n",
        "num_epochs = 100\n",
        "learning_rate = 0.001\n",
        "\n",
        "for epo in range(num_epochs):\n",
        "    loss_val = 0\n",
        "    for data, target in idx_pairs:\n",
        "        # one-hot: shape (V,)\n",
        "        x = one_hot_vector(data).float()\n",
        "        y_true = torch.tensor([target], dtype=torch.long) # make it long in order to apply log_softmax\n",
        "\n",
        "        z1 = W1 @ x   # (D,)\n",
        "        z2 = W2 @ z1   # (V,)\n",
        "\n",
        "        # log_softmax + nll_loss\n",
        "        loss = F.cross_entropy(z2.unsqueeze(0), y_true)\n",
        "        loss_val += loss.data\n",
        "\n",
        "        loss.backward()\n",
        "\n",
        "        with torch.no_grad():\n",
        "            # 가중치 업데이트\n",
        "            W1 -= learning_rate * W1.grad\n",
        "            W2 -= learning_rate * W2.grad\n",
        "\n",
        "            # Gradient 초기화\n",
        "            W1.grad.zero_()\n",
        "            W2.grad.zero_()\n",
        "\n",
        "    if epo % 10 == 0:\n",
        "        print(f'Loss at epoch {epo}: {loss_val/len(idx_pairs)}')"
      ]
    },
    {
      "cell_type": "code",
      "source": [
        "def most_similar(query_word, W1, word2idx, idx2word, topk=3):\n",
        "  if query_word not in word2idx:\n",
        "    raise KeyError(f\"'{query_word}' not in vocabulary.\")\n",
        "\n",
        "  with torch.no_grad():\n",
        "      E = F.normalize(W1, dim=0)\n",
        "  q_idx = word2idx[query_word]\n",
        "  q_vec = E[:, q_idx]\n",
        "  sims = torch.mv(E.t(), q_vec)\n",
        "  vals, inds = sims.topk(topk + 1)  # 자기 자신 제외 위해 +1\n",
        "\n",
        "  out = []\n",
        "  for s, i in zip(vals.tolist(), inds.tolist()):\n",
        "      if i == q_idx:\n",
        "          continue\n",
        "      out.append((idx2word[i], float(s)))\n",
        "      if len(out) == topk:\n",
        "          break\n",
        "  return out"
      ],
      "metadata": {
        "id": "0WzM28nsqek4"
      },
      "execution_count": null,
      "outputs": []
    },
    {
      "cell_type": "code",
      "source": [
        "test_word = \"capital\"\n",
        "print(f\"Similar to '{test_word}': {most_similar(test_word, W1, word2idx, idx2word)}\")"
      ],
      "metadata": {
        "colab": {
          "base_uri": "https://localhost:8080/"
        },
        "id": "9nQgN9eHrVD9",
        "outputId": "081f2c88-90c2-46c6-ecdd-52f88da8ed01"
      },
      "execution_count": null,
      "outputs": [
        {
          "output_type": "stream",
          "name": "stdout",
          "text": [
            "Similar to 'capital': [('france', 0.4380287528038025), ('man', 0.38437360525131226), ('poland', 0.3305112421512604)]\n"
          ]
        }
      ]
    },
    {
      "cell_type": "markdown",
      "metadata": {
        "id": "BL6aovRGPz67"
      },
      "source": [
        "**Going Further...**\n",
        "\n",
        "유사도만 표현해도 될까요? 사실 그게 대부분이긴 하지만, 단어의 등장 빈도 또한 중요한 정보입니다.\n",
        "\n",
        "vocabulary의 사이즈가 굉장히 크기 떄문에 word2vec 은 무거운 작업입니다. 큰 dimension 은 모든 데이터 scientist 들이 피해야 될 부분이죠.\n",
        "\n",
        "이러한 면에서 등장 빈도에 따라 생플링을 달리하는게 효과적이기도 합니다.\n"
      ]
    },
    {
      "cell_type": "code",
      "source": [],
      "metadata": {
        "id": "JeIhLpo-rgT9"
      },
      "execution_count": null,
      "outputs": []
    }
  ],
  "metadata": {
    "colab": {
      "provenance": [],
      "include_colab_link": true
    },
    "kernelspec": {
      "display_name": "Python 3 (ipykernel)",
      "language": "python",
      "name": "python3"
    },
    "language_info": {
      "codemirror_mode": {
        "name": "ipython",
        "version": 3
      },
      "file_extension": ".py",
      "mimetype": "text/x-python",
      "name": "python",
      "nbconvert_exporter": "python",
      "pygments_lexer": "ipython3",
      "version": "3.9.7"
    }
  },
  "nbformat": 4,
  "nbformat_minor": 0
}