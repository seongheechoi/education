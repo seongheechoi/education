{
  "nbformat": 4,
  "nbformat_minor": 0,
  "metadata": {
    "colab": {
      "provenance": [],
      "include_colab_link": true
    },
    "kernelspec": {
      "name": "python3",
      "display_name": "Python 3"
    },
    "language_info": {
      "name": "python"
    }
  },
  "cells": [
    {
      "cell_type": "markdown",
      "metadata": {
        "id": "view-in-github",
        "colab_type": "text"
      },
      "source": [
        "<a href=\"https://colab.research.google.com/github/seongheechoi/education/blob/main/%EC%8B%A4%EC%8A%B5_1_1_compiling_and_optimizing_a_model_with_tvmc.ipynb\" target=\"_parent\"><img src=\"https://colab.research.google.com/assets/colab-badge.svg\" alt=\"Open In Colab\"/></a>"
      ]
    },
    {
      "cell_type": "markdown",
      "source": [
        "# **TVM 실습자료 1: Compiling and Optimizing a Model with TVMC**"
      ],
      "metadata": {
        "id": "wppKSaRMPIos"
      }
    },
    {
      "cell_type": "code",
      "source": [
        "!pip install numpy==1.26.4\n",
        "import numpy as np\n",
        "print(np.__version__)\n",
        "!pip list | grep numpy"
      ],
      "metadata": {
        "colab": {
          "base_uri": "https://localhost:8080/"
        },
        "id": "3pkubki7kb9x",
        "outputId": "00eac492-1902-44d2-fbee-fc8fe9b4d92b"
      },
      "execution_count": null,
      "outputs": [
        {
          "output_type": "stream",
          "name": "stdout",
          "text": [
            "Requirement already satisfied: numpy==1.26.4 in /usr/local/lib/python3.11/dist-packages (1.26.4)\n",
            "1.26.4\n",
            "numpy                                 1.26.4\n"
          ]
        }
      ]
    },
    {
      "cell_type": "code",
      "source": [
        "!python -m pip install --upgrade pip\n",
        "!pip install apache-tvm\n",
        "!pip install onnx"
      ],
      "metadata": {
        "colab": {
          "base_uri": "https://localhost:8080/"
        },
        "id": "Q8BbqGhgm6BN",
        "outputId": "baf03534-e7f3-4348-e6d8-1fec1fc372e9"
      },
      "execution_count": null,
      "outputs": [
        {
          "output_type": "stream",
          "name": "stdout",
          "text": [
            "Requirement already satisfied: pip in /usr/local/lib/python3.11/dist-packages (24.1.2)\n",
            "Collecting pip\n",
            "  Downloading pip-25.1.1-py3-none-any.whl.metadata (3.6 kB)\n",
            "Downloading pip-25.1.1-py3-none-any.whl (1.8 MB)\n",
            "\u001b[2K   \u001b[90m━━━━━━━━━━━━━━━━━━━━━━━━━━━━━━━━━━━━━━━━\u001b[0m \u001b[32m1.8/1.8 MB\u001b[0m \u001b[31m18.7 MB/s\u001b[0m eta \u001b[36m0:00:00\u001b[0m\n",
            "\u001b[?25hInstalling collected packages: pip\n",
            "  Attempting uninstall: pip\n",
            "    Found existing installation: pip 24.1.2\n",
            "    Uninstalling pip-24.1.2:\n",
            "      Successfully uninstalled pip-24.1.2\n",
            "Successfully installed pip-25.1.1\n",
            "Collecting apache-tvm\n",
            "  Downloading apache_tvm-0.14.dev273-cp311-cp311-manylinux_2_17_x86_64.manylinux2014_x86_64.whl.metadata (8.3 kB)\n",
            "Requirement already satisfied: attrs in /usr/local/lib/python3.11/dist-packages (from apache-tvm) (25.3.0)\n",
            "Requirement already satisfied: cloudpickle in /usr/local/lib/python3.11/dist-packages (from apache-tvm) (3.1.1)\n",
            "Requirement already satisfied: decorator in /usr/local/lib/python3.11/dist-packages (from apache-tvm) (4.4.2)\n",
            "Requirement already satisfied: ml-dtypes in /usr/local/lib/python3.11/dist-packages (from apache-tvm) (0.4.1)\n",
            "Requirement already satisfied: numpy in /usr/local/lib/python3.11/dist-packages (from apache-tvm) (1.26.4)\n",
            "Requirement already satisfied: psutil in /usr/local/lib/python3.11/dist-packages (from apache-tvm) (5.9.5)\n",
            "Requirement already satisfied: scipy in /usr/local/lib/python3.11/dist-packages (from apache-tvm) (1.15.3)\n",
            "Requirement already satisfied: tornado in /usr/local/lib/python3.11/dist-packages (from apache-tvm) (6.4.2)\n",
            "Requirement already satisfied: typing-extensions in /usr/local/lib/python3.11/dist-packages (from apache-tvm) (4.14.1)\n",
            "Downloading apache_tvm-0.14.dev273-cp311-cp311-manylinux_2_17_x86_64.manylinux2014_x86_64.whl (69.1 MB)\n",
            "\u001b[2K   \u001b[90m━━━━━━━━━━━━━━━━━━━━━━━━━━━━━━━━━━━━━━━━\u001b[0m \u001b[32m69.1/69.1 MB\u001b[0m \u001b[31m54.4 MB/s\u001b[0m eta \u001b[36m0:00:00\u001b[0m\n",
            "\u001b[?25hInstalling collected packages: apache-tvm\n",
            "Successfully installed apache-tvm-0.14.dev273\n",
            "Collecting onnx\n",
            "  Downloading onnx-1.18.0-cp311-cp311-manylinux_2_17_x86_64.manylinux2014_x86_64.whl.metadata (6.9 kB)\n",
            "Requirement already satisfied: numpy>=1.22 in /usr/local/lib/python3.11/dist-packages (from onnx) (1.26.4)\n",
            "Requirement already satisfied: protobuf>=4.25.1 in /usr/local/lib/python3.11/dist-packages (from onnx) (5.29.5)\n",
            "Requirement already satisfied: typing_extensions>=4.7.1 in /usr/local/lib/python3.11/dist-packages (from onnx) (4.14.1)\n",
            "Downloading onnx-1.18.0-cp311-cp311-manylinux_2_17_x86_64.manylinux2014_x86_64.whl (17.6 MB)\n",
            "\u001b[2K   \u001b[90m━━━━━━━━━━━━━━━━━━━━━━━━━━━━━━━━━━━━━━━━\u001b[0m \u001b[32m17.6/17.6 MB\u001b[0m \u001b[31m115.7 MB/s\u001b[0m eta \u001b[36m0:00:00\u001b[0m\n",
            "\u001b[?25hInstalling collected packages: onnx\n",
            "Successfully installed onnx-1.18.0\n"
          ]
        }
      ]
    },
    {
      "cell_type": "code",
      "source": [
        "!tvmc --help"
      ],
      "metadata": {
        "colab": {
          "base_uri": "https://localhost:8080/"
        },
        "id": "OXXP7MA0NSBv",
        "outputId": "d36e75e1-cfaa-45ce-bb3e-ad2df0b6387f"
      },
      "execution_count": null,
      "outputs": [
        {
          "output_type": "stream",
          "name": "stdout",
          "text": [
            "usage: tvmc [--config CONFIG] [-v] [--version] [-h]\n",
            "            {micro,run,tune,compile} ...\n",
            "\n",
            "TVM compiler driver\n",
            "\n",
            "options:\n",
            "  --config CONFIG       configuration json file\n",
            "  -v, --verbose         increase verbosity\n",
            "  --version             print the version and exit\n",
            "  -h, --help            show this help message and exit.\n",
            "\n",
            "commands:\n",
            "  {micro,run,tune,compile}\n",
            "    micro               select micro context.\n",
            "    run                 run a compiled module\n",
            "    tune                auto-tune a model\n",
            "    compile             compile a model.\n",
            "\n",
            "TVMC - TVM driver command-line interface\n"
          ]
        }
      ]
    },
    {
      "cell_type": "code",
      "source": [
        "!wget https://github.com/onnx/models/raw/b9a54e89508f101a1611cd64f4ef56b9cb62c7cf/vision/classification/resnet/model/resnet50-v2-7.onnx"
      ],
      "metadata": {
        "colab": {
          "base_uri": "https://localhost:8080/"
        },
        "id": "8DO79SfE9REE",
        "outputId": "fdc5a5e8-c023-419d-d3ca-73e4dda65ed5"
      },
      "execution_count": null,
      "outputs": [
        {
          "output_type": "stream",
          "name": "stdout",
          "text": [
            "--2025-07-11 04:40:12--  https://github.com/onnx/models/raw/b9a54e89508f101a1611cd64f4ef56b9cb62c7cf/vision/classification/resnet/model/resnet50-v2-7.onnx\n",
            "Resolving github.com (github.com)... 140.82.116.4\n",
            "Connecting to github.com (github.com)|140.82.116.4|:443... connected.\n",
            "HTTP request sent, awaiting response... 302 Found\n",
            "Location: https://media.githubusercontent.com/media/onnx/models/b9a54e89508f101a1611cd64f4ef56b9cb62c7cf/vision/classification/resnet/model/resnet50-v2-7.onnx [following]\n",
            "--2025-07-11 04:40:12--  https://media.githubusercontent.com/media/onnx/models/b9a54e89508f101a1611cd64f4ef56b9cb62c7cf/vision/classification/resnet/model/resnet50-v2-7.onnx\n",
            "Resolving media.githubusercontent.com (media.githubusercontent.com)... 185.199.108.133, 185.199.109.133, 185.199.110.133, ...\n",
            "Connecting to media.githubusercontent.com (media.githubusercontent.com)|185.199.108.133|:443... connected.\n",
            "HTTP request sent, awaiting response... 200 OK\n",
            "Length: 102442450 (98M) [application/octet-stream]\n",
            "Saving to: ‘resnet50-v2-7.onnx’\n",
            "\n",
            "resnet50-v2-7.onnx  100%[===================>]  97.70M   186MB/s    in 0.5s    \n",
            "\n",
            "2025-07-11 04:40:15 (186 MB/s) - ‘resnet50-v2-7.onnx’ saved [102442450/102442450]\n",
            "\n"
          ]
        }
      ]
    },
    {
      "cell_type": "code",
      "source": [
        "# This may take several minutes depending on your machine\n",
        "!tvmc compile \\\n",
        "--target \"llvm\" \\\n",
        "--input-shapes \"data:[1,3,224,224]\" \\\n",
        "--output resnet50-v2-7-tvm.tar \\\n",
        "resnet50-v2-7.onnx"
      ],
      "metadata": {
        "colab": {
          "base_uri": "https://localhost:8080/"
        },
        "id": "W0PuPQGC964Q",
        "outputId": "802b07f3-e338-4222-c7b9-04b0fbb6ce07"
      },
      "execution_count": null,
      "outputs": [
        {
          "output_type": "stream",
          "name": "stdout",
          "text": [
            "WARNING:autotvm:One or more operators have not been tuned. Please tune your model for better performance. Use DEBUG logging level to see more details.\n"
          ]
        }
      ]
    },
    {
      "cell_type": "code",
      "source": [
        "!mkdir model\n",
        "!tar -xvf resnet50-v2-7-tvm.tar -C model\n",
        "!ls model"
      ],
      "metadata": {
        "colab": {
          "base_uri": "https://localhost:8080/"
        },
        "id": "DeD0PNMP-PA8",
        "outputId": "54359e1a-810c-4ae7-fa23-842d81b20a87"
      },
      "execution_count": null,
      "outputs": [
        {
          "output_type": "stream",
          "name": "stdout",
          "text": [
            "mod.so\n",
            "mod.json\n",
            "mod.params\n",
            "mod.json  mod.params  mod.so\n"
          ]
        }
      ]
    },
    {
      "cell_type": "code",
      "source": [
        "#!python ./preprocess.py\n",
        "from tvm.contrib.download import download_testdata\n",
        "from PIL import Image\n",
        "import numpy as np\n",
        "\n",
        "img_url = \"https://s3.amazonaws.com/model-server/inputs/kitten.jpg\"\n",
        "img_path = download_testdata(img_url, \"imagenet_cat.png\", module=\"data\")\n",
        "\n",
        "# Resize it to 224x224\n",
        "resized_image = Image.open(img_path).resize((224, 224))\n",
        "img_data = np.asarray(resized_image).astype(\"float32\")\n",
        "\n",
        "# ONNX expects NCHW input, so convert the array\n",
        "img_data = np.transpose(img_data, (2, 0, 1))\n",
        "\n",
        "# Normalize according to ImageNet\n",
        "imagenet_mean = np.array([0.485, 0.456, 0.406])\n",
        "imagenet_stddev = np.array([0.229, 0.224, 0.225])\n",
        "norm_img_data = np.zeros(img_data.shape).astype(\"float32\")\n",
        "for i in range(img_data.shape[0]):\n",
        "      norm_img_data[i, :, :] = (img_data[i, :, :] / 255 - imagenet_mean[i]) / imagenet_stddev[i]\n",
        "\n",
        "# Add batch dimension\n",
        "img_data = np.expand_dims(norm_img_data, axis=0)\n",
        "\n",
        "# Save to .npz (outputs imagenet_cat.npz)\n",
        "np.savez(\"imagenet_cat\", data=img_data)"
      ],
      "metadata": {
        "id": "K7QgE64a-Wf_"
      },
      "execution_count": null,
      "outputs": []
    },
    {
      "cell_type": "code",
      "source": [
        "!tvmc run \\\n",
        "--inputs imagenet_cat.npz \\\n",
        "--output predictions.npz \\\n",
        "resnet50-v2-7-tvm.tar"
      ],
      "metadata": {
        "colab": {
          "base_uri": "https://localhost:8080/"
        },
        "id": "X_5mqNI2-lAm",
        "outputId": "bbd80837-4d6d-4a46-c35a-0fea21d364f2"
      },
      "execution_count": null,
      "outputs": [
        {
          "output_type": "stream",
          "name": "stdout",
          "text": [
            "2025-07-11 04:42:14.407 INFO load_module /tmp/tmpr2x5f15c/mod.so\n"
          ]
        }
      ]
    },
    {
      "cell_type": "code",
      "source": [
        "#!python ./postprocess.py\n",
        "import os.path\n",
        "import numpy as np\n",
        "\n",
        "from scipy.special import softmax\n",
        "\n",
        "from tvm.contrib.download import download_testdata\n",
        "\n",
        "# Download a list of labels\n",
        "labels_url = \"https://s3.amazonaws.com/onnx-model-zoo/synset.txt\"\n",
        "labels_path = download_testdata(labels_url, \"synset.txt\", module=\"data\")\n",
        "\n",
        "with open(labels_path, \"r\") as f:\n",
        "    labels = [l.rstrip() for l in f]\n",
        "\n",
        "output_file = \"predictions.npz\"\n",
        "\n",
        "# Open the output and read the output tensor\n",
        "if os.path.exists(output_file):\n",
        "    with np.load(output_file) as data:\n",
        "        scores = softmax(data[\"output_0\"])\n",
        "        scores = np.squeeze(scores)\n",
        "        ranks = np.argsort(scores)[::-1]\n",
        "\n",
        "        for rank in ranks[0:5]:\n",
        "            print(\"class='%s' with probability=%f\" % (labels[rank], scores[rank]))"
      ],
      "metadata": {
        "colab": {
          "base_uri": "https://localhost:8080/"
        },
        "id": "kCWRATj5-sBq",
        "outputId": "d7e52933-a024-4b50-f088-be2e6258fa29"
      },
      "execution_count": null,
      "outputs": [
        {
          "output_type": "stream",
          "name": "stdout",
          "text": [
            "class='n02123045 tabby, tabby cat' with probability=0.621104\n",
            "class='n02123159 tiger cat' with probability=0.356378\n",
            "class='n02124075 Egyptian cat' with probability=0.019712\n",
            "class='n02129604 tiger, Panthera tigris' with probability=0.001215\n",
            "class='n04040759 radiator' with probability=0.000262\n"
          ]
        }
      ]
    },
    {
      "cell_type": "code",
      "source": [
        "# The default search algorithm requires xgboost, see below for further\n",
        "# details on tuning search algorithms\n",
        "!pip install xgboost\n",
        "\n",
        "!tvmc tune \\\n",
        "--target \"llvm\" \\\n",
        "--output resnet50-v2-7-autotuner_records.json \\\n",
        "resnet50-v2-7.onnx"
      ],
      "metadata": {
        "colab": {
          "base_uri": "https://localhost:8080/"
        },
        "id": "thCsm6H7_Gjv",
        "outputId": "972c736a-3b92-49fe-d935-c776b789c528"
      },
      "execution_count": null,
      "outputs": [
        {
          "output_type": "stream",
          "name": "stdout",
          "text": [
            "Requirement already satisfied: xgboost in /usr/local/lib/python3.11/dist-packages (2.1.4)\n",
            "Requirement already satisfied: numpy in /usr/local/lib/python3.11/dist-packages (from xgboost) (1.26.4)\n",
            "Requirement already satisfied: nvidia-nccl-cu12 in /usr/local/lib/python3.11/dist-packages (from xgboost) (2.21.5)\n",
            "Requirement already satisfied: scipy in /usr/local/lib/python3.11/dist-packages (from xgboost) (1.15.3)\n",
            "Traceback (most recent call last):\n",
            "  File \"/usr/local/bin/tvmc\", line 8, in <module>\n",
            "    sys.exit(main())\n",
            "             ^^^^^^\n",
            "  File \"/usr/local/lib/python3.11/dist-packages/tvm/driver/tvmc/main.py\", line 118, in main\n",
            "    sys.exit(_main(sys.argv[1:]))\n",
            "             ^^^^^^^^^^^^^^^^^^^\n",
            "  File \"/usr/local/lib/python3.11/dist-packages/tvm/driver/tvmc/main.py\", line 106, in _main\n",
            "    return args.func(args)\n",
            "           ^^^^^^^^^^^^^^^\n",
            "  File \"/usr/local/lib/python3.11/dist-packages/tvm/driver/tvmc/autotuner.py\", line 292, in drive_tune\n",
            "    tune_model(\n",
            "  File \"/usr/local/lib/python3.11/dist-packages/tvm/driver/tvmc/autotuner.py\", line 592, in tune_model\n",
            "    tasks = autotvm_get_tuning_tasks(\n",
            "            ^^^^^^^^^^^^^^^^^^^^^^^^^\n",
            "  File \"/usr/local/lib/python3.11/dist-packages/tvm/driver/tvmc/autotuner.py\", line 677, in autotvm_get_tuning_tasks\n",
            "    tasks = autotvm.task.extract_from_program(\n",
            "            ^^^^^^^^^^^^^^^^^^^^^^^^^^^^^^^^^^\n",
            "  File \"/usr/local/lib/python3.11/dist-packages/tvm/autotvm/task/relay_integration.py\", line 84, in extract_from_program\n",
            "    return extract_from_multiple_program([mod], [params], target, ops=ops)\n",
            "           ^^^^^^^^^^^^^^^^^^^^^^^^^^^^^^^^^^^^^^^^^^^^^^^^^^^^^^^^^^^^^^^\n",
            "  File \"/usr/local/lib/python3.11/dist-packages/tvm/autotvm/task/relay_integration.py\", line 137, in extract_from_multiple_program\n",
            "    build_thread.join()\n",
            "  File \"/usr/lib/python3.11/threading.py\", line 1119, in join\n",
            "  File \"/usr/lib/python3.11/threading.py\", line 1139, in _wait_for_tstate_lock\n",
            "    if lock.acquire(block, timeout):\n",
            "       ^^^^^^^^^^^^^^^^^^^^^^^^^^^^\n",
            "KeyboardInterrupt\n",
            "^C\n"
          ]
        }
      ]
    },
    {
      "cell_type": "code",
      "source": [
        "import requests\n",
        "\n",
        "url='https://raw.githubusercontent.com/simey1128/LG_DIC_TVM/refs/heads/main/1_1_resnet50-v2-7-autotuner_records.json'\n",
        "response = requests.get(url)\n",
        "\n",
        "with open('resnet50-v2-7-autotuner_records.json', 'wb') as f:\n",
        "  f.write(response.content)"
      ],
      "metadata": {
        "id": "N1aIY8GICvq6"
      },
      "execution_count": null,
      "outputs": []
    },
    {
      "cell_type": "code",
      "source": [
        "!tvmc compile \\\n",
        "--target \"llvm\" \\\n",
        "--tuning-records resnet50-v2-7-autotuner_records.json  \\\n",
        "--output resnet50-v2-7-tvm_autotuned.tar \\\n",
        "resnet50-v2-7.onnx"
      ],
      "metadata": {
        "id": "djHO0wG2BRaw"
      },
      "execution_count": null,
      "outputs": []
    },
    {
      "cell_type": "code",
      "source": [
        "!tvmc run \\\n",
        "--inputs imagenet_cat.npz \\\n",
        "--output predictions.npz \\\n",
        "resnet50-v2-7-tvm_autotuned.tar"
      ],
      "metadata": {
        "id": "5t2uRYc2BWAc",
        "colab": {
          "base_uri": "https://localhost:8080/"
        },
        "outputId": "270888ed-caba-431c-9432-57aa3c58a08b"
      },
      "execution_count": null,
      "outputs": [
        {
          "output_type": "stream",
          "name": "stdout",
          "text": [
            "2025-07-11 04:44:35.064 INFO load_module /tmp/tmp9wgfw3cn/mod.so\n"
          ]
        }
      ]
    },
    {
      "cell_type": "code",
      "source": [
        "#!python ./postprocess.py\n",
        "import os.path\n",
        "import numpy as np\n",
        "\n",
        "from scipy.special import softmax\n",
        "\n",
        "from tvm.contrib.download import download_testdata\n",
        "\n",
        "# Download a list of labels\n",
        "labels_url = \"https://s3.amazonaws.com/onnx-model-zoo/synset.txt\"\n",
        "labels_path = download_testdata(labels_url, \"synset.txt\", module=\"data\")\n",
        "\n",
        "with open(labels_path, \"r\") as f:\n",
        "    labels = [l.rstrip() for l in f]\n",
        "\n",
        "output_file = \"predictions.npz\"\n",
        "\n",
        "# Open the output and read the output tensor\n",
        "if os.path.exists(output_file):\n",
        "    with np.load(output_file) as data:\n",
        "        scores = softmax(data[\"output_0\"])\n",
        "        scores = np.squeeze(scores)\n",
        "        ranks = np.argsort(scores)[::-1]\n",
        "\n",
        "        for rank in ranks[0:5]:\n",
        "            print(\"class='%s' with probability=%f\" % (labels[rank], scores[rank]))"
      ],
      "metadata": {
        "id": "8tX4bohGBaK7",
        "colab": {
          "base_uri": "https://localhost:8080/"
        },
        "outputId": "d0207a29-f62b-4c85-c219-8dc2a93d3d07"
      },
      "execution_count": null,
      "outputs": [
        {
          "output_type": "stream",
          "name": "stdout",
          "text": [
            "class='n02123045 tabby, tabby cat' with probability=0.621106\n",
            "class='n02123159 tiger cat' with probability=0.356376\n",
            "class='n02124075 Egyptian cat' with probability=0.019712\n",
            "class='n02129604 tiger, Panthera tigris' with probability=0.001215\n",
            "class='n04040759 radiator' with probability=0.000262\n"
          ]
        }
      ]
    },
    {
      "cell_type": "code",
      "source": [
        "!tvmc run \\\n",
        "--inputs imagenet_cat.npz \\\n",
        "--output predictions.npz  \\\n",
        "--print-time \\\n",
        "--repeat 100 \\\n",
        "resnet50-v2-7-tvm_autotuned.tar"
      ],
      "metadata": {
        "id": "ROEwEA6EBpTz",
        "colab": {
          "base_uri": "https://localhost:8080/"
        },
        "outputId": "f66386d9-0ab4-4aa7-87d9-277d4ace9414"
      },
      "execution_count": null,
      "outputs": [
        {
          "output_type": "stream",
          "name": "stdout",
          "text": [
            "2025-07-11 04:44:38.694 INFO load_module /tmp/tmpj0uzuujs/mod.so\n",
            "Execution time summary:\n",
            " mean (ms)   median (ms)    max (ms)     min (ms)     std (ms)  \n",
            "  490.7077     448.5962     797.2436     430.2810     103.4580                 \n"
          ]
        }
      ]
    },
    {
      "cell_type": "code",
      "source": [
        "!tvmc run \\\n",
        "--inputs imagenet_cat.npz \\\n",
        "--output predictions.npz  \\\n",
        "--print-time \\\n",
        "--repeat 100 \\\n",
        "resnet50-v2-7-tvm.tar"
      ],
      "metadata": {
        "id": "BnjNZnAHBsKU",
        "colab": {
          "base_uri": "https://localhost:8080/"
        },
        "outputId": "894d85f1-cb79-417b-a2c5-757445cc3c2f"
      },
      "execution_count": null,
      "outputs": [
        {
          "output_type": "stream",
          "name": "stdout",
          "text": [
            "2025-07-11 04:45:31.409 INFO load_module /tmp/tmpl6bqrb4e/mod.so\n",
            "Execution time summary:\n",
            " mean (ms)   median (ms)    max (ms)     min (ms)     std (ms)  \n",
            "  622.7948     567.7167    1054.4010     544.3454     138.5330                 \n"
          ]
        }
      ]
    }
  ]
}