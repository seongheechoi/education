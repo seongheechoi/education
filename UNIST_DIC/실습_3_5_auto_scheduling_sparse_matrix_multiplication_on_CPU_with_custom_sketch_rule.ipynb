{
  "nbformat": 4,
  "nbformat_minor": 0,
  "metadata": {
    "colab": {
      "provenance": [],
      "include_colab_link": true
    },
    "kernelspec": {
      "name": "python3",
      "display_name": "Python 3"
    },
    "language_info": {
      "name": "python"
    }
  },
  "cells": [
    {
      "cell_type": "markdown",
      "metadata": {
        "id": "view-in-github",
        "colab_type": "text"
      },
      "source": [
        "<a href=\"https://colab.research.google.com/github/seongheechoi/education/blob/main/%EC%8B%A4%EC%8A%B5_3_5_auto_scheduling_sparse_matrix_multiplication_on_CPU_with_custom_sketch_rule.ipynb\" target=\"_parent\"><img src=\"https://colab.research.google.com/assets/colab-badge.svg\" alt=\"Open In Colab\"/></a>"
      ]
    },
    {
      "cell_type": "markdown",
      "source": [
        "# **TVM 실습자료 3.5: Auto-scheduling Sparse Matrix Multiplication on CPU with Custom Sketch Rule**"
      ],
      "metadata": {
        "id": "um5J3CF1BYuL"
      }
    },
    {
      "cell_type": "code",
      "source": [
        "!pip install numpy==1.26.4\n",
        "import numpy as np\n",
        "print(np.__version__)\n",
        "!pip list | grep numpy"
      ],
      "metadata": {
        "colab": {
          "base_uri": "https://localhost:8080/",
          "height": 417
        },
        "id": "9mk_2eL7BmxD",
        "outputId": "666d0e6d-1cb9-460c-87e7-f7029d6e1dc8"
      },
      "execution_count": null,
      "outputs": [
        {
          "output_type": "stream",
          "name": "stdout",
          "text": [
            "Collecting numpy==1.26.4\n",
            "  Downloading numpy-1.26.4-cp311-cp311-manylinux_2_17_x86_64.manylinux2014_x86_64.whl.metadata (61 kB)\n",
            "\u001b[?25l     \u001b[90m━━━━━━━━━━━━━━━━━━━━━━━━━━━━━━━━━━━━━━━━\u001b[0m \u001b[32m0.0/61.0 kB\u001b[0m \u001b[31m?\u001b[0m eta \u001b[36m-:--:--\u001b[0m\r\u001b[2K     \u001b[90m━━━━━━━━━━━━━━━━━━━━━━━━━━━━━━━━━━━━━━━━\u001b[0m \u001b[32m61.0/61.0 kB\u001b[0m \u001b[31m3.2 MB/s\u001b[0m eta \u001b[36m0:00:00\u001b[0m\n",
            "\u001b[?25hDownloading numpy-1.26.4-cp311-cp311-manylinux_2_17_x86_64.manylinux2014_x86_64.whl (18.3 MB)\n",
            "\u001b[2K   \u001b[90m━━━━━━━━━━━━━━━━━━━━━━━━━━━━━━━━━━━━━━━━\u001b[0m \u001b[32m18.3/18.3 MB\u001b[0m \u001b[31m77.0 MB/s\u001b[0m eta \u001b[36m0:00:00\u001b[0m\n",
            "\u001b[?25hInstalling collected packages: numpy\n",
            "  Attempting uninstall: numpy\n",
            "    Found existing installation: numpy 2.0.2\n",
            "    Uninstalling numpy-2.0.2:\n",
            "      Successfully uninstalled numpy-2.0.2\n",
            "\u001b[31mERROR: pip's dependency resolver does not currently take into account all the packages that are installed. This behaviour is the source of the following dependency conflicts.\n",
            "opencv-python-headless 4.12.0.88 requires numpy<2.3.0,>=2; python_version >= \"3.9\", but you have numpy 1.26.4 which is incompatible.\n",
            "thinc 8.3.6 requires numpy<3.0.0,>=2.0.0, but you have numpy 1.26.4 which is incompatible.\u001b[0m\u001b[31m\n",
            "\u001b[0mSuccessfully installed numpy-1.26.4\n"
          ]
        },
        {
          "output_type": "display_data",
          "data": {
            "application/vnd.colab-display-data+json": {
              "pip_warning": {
                "packages": [
                  "numpy"
                ]
              },
              "id": "bea40179fb6c4e769e742147c808ada9"
            }
          },
          "metadata": {}
        },
        {
          "output_type": "stream",
          "name": "stdout",
          "text": [
            "2.0.2\n",
            "numpy                                 1.26.4\n"
          ]
        }
      ]
    },
    {
      "cell_type": "code",
      "execution_count": null,
      "metadata": {
        "colab": {
          "base_uri": "https://localhost:8080/"
        },
        "id": "rs530F5XNMup",
        "outputId": "a6d9b69e-e12a-4ffb-a66f-4cbf81b250c4"
      },
      "outputs": [
        {
          "output_type": "stream",
          "name": "stdout",
          "text": [
            "Requirement already satisfied: pip in /usr/local/lib/python3.11/dist-packages (24.1.2)\n",
            "Collecting pip\n",
            "  Downloading pip-25.1.1-py3-none-any.whl.metadata (3.6 kB)\n",
            "Downloading pip-25.1.1-py3-none-any.whl (1.8 MB)\n",
            "\u001b[2K   \u001b[90m━━━━━━━━━━━━━━━━━━━━━━━━━━━━━━━━━━━━━━━━\u001b[0m \u001b[32m1.8/1.8 MB\u001b[0m \u001b[31m17.2 MB/s\u001b[0m eta \u001b[36m0:00:00\u001b[0m\n",
            "\u001b[?25hInstalling collected packages: pip\n",
            "  Attempting uninstall: pip\n",
            "    Found existing installation: pip 24.1.2\n",
            "    Uninstalling pip-24.1.2:\n",
            "      Successfully uninstalled pip-24.1.2\n",
            "Successfully installed pip-25.1.1\n",
            "Collecting apache-tvm\n",
            "  Downloading apache_tvm-0.14.dev273-cp311-cp311-manylinux_2_17_x86_64.manylinux2014_x86_64.whl.metadata (8.3 kB)\n",
            "Requirement already satisfied: attrs in /usr/local/lib/python3.11/dist-packages (from apache-tvm) (25.3.0)\n",
            "Requirement already satisfied: cloudpickle in /usr/local/lib/python3.11/dist-packages (from apache-tvm) (3.1.1)\n",
            "Requirement already satisfied: decorator in /usr/local/lib/python3.11/dist-packages (from apache-tvm) (4.4.2)\n",
            "Requirement already satisfied: ml-dtypes in /usr/local/lib/python3.11/dist-packages (from apache-tvm) (0.4.1)\n",
            "Requirement already satisfied: numpy in /usr/local/lib/python3.11/dist-packages (from apache-tvm) (1.26.4)\n",
            "Requirement already satisfied: psutil in /usr/local/lib/python3.11/dist-packages (from apache-tvm) (5.9.5)\n",
            "Requirement already satisfied: scipy in /usr/local/lib/python3.11/dist-packages (from apache-tvm) (1.15.3)\n",
            "Requirement already satisfied: tornado in /usr/local/lib/python3.11/dist-packages (from apache-tvm) (6.4.2)\n",
            "Requirement already satisfied: typing-extensions in /usr/local/lib/python3.11/dist-packages (from apache-tvm) (4.14.1)\n",
            "Downloading apache_tvm-0.14.dev273-cp311-cp311-manylinux_2_17_x86_64.manylinux2014_x86_64.whl (69.1 MB)\n",
            "\u001b[2K   \u001b[90m━━━━━━━━━━━━━━━━━━━━━━━━━━━━━━━━━━━━━━━━\u001b[0m \u001b[32m69.1/69.1 MB\u001b[0m \u001b[31m56.0 MB/s\u001b[0m eta \u001b[36m0:00:00\u001b[0m\n",
            "\u001b[?25hInstalling collected packages: apache-tvm\n",
            "Successfully installed apache-tvm-0.14.dev273\n"
          ]
        }
      ],
      "source": [
        "# Linux/MacOS CPU build only!\n",
        "# See tlcpack.ai for other pre-built binaries including CUDA\n",
        "!python -m pip install --upgrade pip\n",
        "!pip install apache-tvm"
      ]
    },
    {
      "cell_type": "code",
      "source": [
        "import os\n",
        "\n",
        "import numpy as np\n",
        "import tvm\n",
        "import tvm.testing\n",
        "from tvm import te, auto_scheduler, runtime, topi\n",
        "from tvm.auto_scheduler import _ffi_api\n",
        "from tvm.topi.utils import get_const_tuple\n",
        "from tvm.topi.sparse.utils import random_bsr_matrix"
      ],
      "metadata": {
        "id": "HzPb2SPbOzg6"
      },
      "execution_count": null,
      "outputs": []
    },
    {
      "cell_type": "markdown",
      "source": [
        "**Define the computation**"
      ],
      "metadata": {
        "id": "rfEOZWYfO0vx"
      }
    },
    {
      "cell_type": "code",
      "source": [
        "@auto_scheduler.register_workload\n",
        "def sparse_dense(M, N, K, w_data_shape, w_indices_shape, w_indptr_shape, dtype):\n",
        "    X = te.placeholder(shape=(M, K), dtype=dtype)\n",
        "    W_data = te.placeholder(shape=w_data_shape, dtype=dtype)\n",
        "    W_indices = te.placeholder(shape=w_indices_shape, dtype=\"int32\")\n",
        "    W_indptr = te.placeholder(shape=w_indptr_shape, dtype=\"int32\")\n",
        "    B = te.placeholder(shape=(M, N), dtype=dtype)\n",
        "\n",
        "    out = topi.nn.sparse_dense(topi.nn.relu(X), W_data, W_indices, W_indptr)\n",
        "    out = te.compute((M, N), lambda i, j: out[i, j] + B[i, j], name=\"BiasAdd\")\n",
        "    out = topi.nn.relu(out)\n",
        "\n",
        "    return [X, W_data, W_indices, W_indptr, B, out]"
      ],
      "metadata": {
        "id": "YuHz3Y07O1kC"
      },
      "execution_count": null,
      "outputs": []
    },
    {
      "cell_type": "markdown",
      "source": [
        "**Special step for sparse workload**"
      ],
      "metadata": {
        "id": "agCHOKlaO6y0"
      }
    },
    {
      "cell_type": "code",
      "source": [
        "# Define the basic shapes of this sparse computation\n",
        "M = 128\n",
        "K = 256\n",
        "N = 512\n",
        "BS_R = 16\n",
        "BS_C = 1\n",
        "density = 0.6\n",
        "\n",
        "# Generate the test data with numpy\n",
        "X_np = np.random.randn(M, K).astype(\"float32\")\n",
        "X_np = np.maximum(np.zeros((M, K), dtype=\"float32\"), X_np)  # Relu\n",
        "W_sp_np = random_bsr_matrix(N, K, BS_R, BS_C, density=density, dtype=\"float32\")\n",
        "W_np = W_sp_np.todense()\n",
        "Y_np = X_np @ W_np.T  # Process the matrix multiplication\n",
        "B_np = np.random.randn(M, N).astype(\"float32\")\n",
        "Y_np = Y_np + B_np  # Bias add\n",
        "Y_np = np.maximum(np.zeros((M, N), dtype=\"float32\"), Y_np)  # Relu"
      ],
      "metadata": {
        "id": "56NN0EYfO6Jd"
      },
      "execution_count": null,
      "outputs": []
    },
    {
      "cell_type": "markdown",
      "source": [
        "**Create the search task**"
      ],
      "metadata": {
        "id": "_jotr3hMPBCg"
      }
    },
    {
      "cell_type": "code",
      "source": [
        "target = tvm.target.Target(\"llvm -mcpu=core-avx2\")\n",
        "\n",
        "# Register the sparse data to task inputs\n",
        "prefix = \"sparse_dense_bsr_%d_%d_%d_%d_%d_%d_\" % (\n",
        "    N,\n",
        "    K,\n",
        "    BS_R,\n",
        "    BS_C,\n",
        "    W_sp_np.indices.shape[0],\n",
        "    W_sp_np.indptr.shape[0],\n",
        ")\n",
        "task = tvm.auto_scheduler.SearchTask(\n",
        "    func=sparse_dense,\n",
        "    args=(M, N, K, W_sp_np.data.shape, W_sp_np.indices.shape, W_sp_np.indptr.shape, \"float32\"),\n",
        "    target=target,\n",
        "    task_inputs={\n",
        "        prefix + \"W_data\": runtime.ndarray.array(W_sp_np.data),\n",
        "        prefix + \"W_indices\": runtime.ndarray.array(W_sp_np.indices),\n",
        "        prefix + \"W_indptr\": runtime.ndarray.array(W_sp_np.indptr),\n",
        "    },\n",
        "    task_inputs_save_to_file=True,\n",
        ")\n",
        "\n",
        "# Inspect the computational graph\n",
        "print(\"Computational DAG:\")\n",
        "print(task.compute_dag)"
      ],
      "metadata": {
        "colab": {
          "base_uri": "https://localhost:8080/"
        },
        "id": "UTeOLcYxPDDx",
        "outputId": "331ede97-1540-4803-b764-31366e3fd5bc"
      },
      "execution_count": null,
      "outputs": [
        {
          "output_type": "stream",
          "name": "stdout",
          "text": [
            "Computational DAG:\n",
            "placeholder = PLACEHOLDER [33]\n",
            "placeholder = PLACEHOLDER [4916, 16, 1]\n",
            "placeholder = PLACEHOLDER [4916]\n",
            "placeholder = PLACEHOLDER [128, 256]\n",
            "compute(i0, i1) = max(placeholder[i0, i1], 0f)\n",
            "compute(i, nb_j, j) += (placeholder[(placeholder[nb_j] + elem_idx), j, c]*compute[i, (placeholder[(placeholder[nb_j] + elem_idx)] + c)])\n",
            "compute(m, n) = compute[m, floordiv(n, 16), floormod(n, 16)]\n",
            "placeholder = PLACEHOLDER [128, 512]\n",
            "BiasAdd(i, j) = (compute[i, j] + placeholder[i, j])\n",
            "compute(i0, i1) = max(BiasAdd[i0, i1], 0f)\n",
            "\n"
          ]
        }
      ]
    },
    {
      "cell_type": "markdown",
      "source": [
        "**Write the custom sketch for sparse dense op**"
      ],
      "metadata": {
        "id": "vtIin4kMPRFY"
      }
    },
    {
      "cell_type": "code",
      "source": [
        "def meet_condition_func(search_policy, state, stage_id):\n",
        "    state = auto_scheduler.loop_state.State(state, search_policy.search_task.compute_dag)\n",
        "    if state.stages[stage_id].op.tag in [\n",
        "        \"sparse_dense_sp_rhs_bsrmm\",\n",
        "        \"sparse_dense_sp_rhs_bsrmm_block\",\n",
        "    ]:\n",
        "        return auto_scheduler.PreloadCustomSketchRule.APPLY_AND_SKIP_REST\n",
        "    else:\n",
        "        return auto_scheduler.PreloadCustomSketchRule.PASS\n",
        "\n",
        "\n",
        "def apply_func(search_policy, state, stage_id):\n",
        "    ret = []\n",
        "    s0 = auto_scheduler.loop_state.State(state, search_policy.search_task.compute_dag)\n",
        "    if s0.stages[stage_id].op.tag == \"sparse_dense_sp_rhs_bsrmm_block\":\n",
        "        return [s0.state_object, stage_id - 1]\n",
        "\n",
        "    sparse_dense = s0.stages[stage_id].op\n",
        "    sparse_dense_block = s0.stages[stage_id - 1].op\n",
        "    assert sparse_dense.tag == \"sparse_dense_sp_rhs_bsrmm\"\n",
        "    assert sparse_dense_block.tag == \"sparse_dense_sp_rhs_bsrmm_block\"\n",
        "\n",
        "    # Set the default consumer of compute block\n",
        "    consumer = sparse_dense\n",
        "\n",
        "    # If sparse dense has a single elementwise consumer\n",
        "    # We can compute inline the sparse_dense output stage\n",
        "    consumers = _ffi_api.SearchPolicyUtilsGetConsumers(\n",
        "        search_policy.search_task, s0.state_object, stage_id\n",
        "    )\n",
        "    if len(consumers) == 1:\n",
        "        consumer_id = int(consumers.items()[0][0])\n",
        "        if _ffi_api.SearchPolicyUtilsIsElementwiseMatch(\n",
        "            search_policy.search_task, s0.state_object, stage_id, consumer_id\n",
        "        ):\n",
        "            consumer = s0.stages[consumer_id].op\n",
        "            s0.compute_inline(sparse_dense)\n",
        "\n",
        "    i, nb_j, j, row_offset, c = s0[sparse_dense_block].iters\n",
        "    m, n = s0[consumer].iters\n",
        "    i0, i1, i2 = s0.split(sparse_dense_block, i, [None, None])\n",
        "    m0, m1 = s0.follow_split(consumer, m, len(s0.transform_steps) - 1, 1)\n",
        "    j0, j1 = s0.split(sparse_dense_block, nb_j, [None])\n",
        "    n0, n1 = s0.follow_split(consumer, n, len(s0.transform_steps) - 1, 1)\n",
        "    s0.reorder(sparse_dense_block, [i0, j0, i1, j1, row_offset, i2, j, c])\n",
        "    s0.reorder(consumer, [m0, n0, m1, n1])\n",
        "    s0.compute_at(sparse_dense_block, consumer, n0)\n",
        "\n",
        "    ret.append([s0.state_object, stage_id - 2])\n",
        "\n",
        "    return ret"
      ],
      "metadata": {
        "id": "2xlEdC88PSDa"
      },
      "execution_count": null,
      "outputs": []
    },
    {
      "cell_type": "code",
      "source": [
        "log_file = \"sparse_dense.json\"\n",
        "tune_option = auto_scheduler.TuningOptions(\n",
        "    num_measure_trials=10,\n",
        "    measure_callbacks=[auto_scheduler.RecordToFile(log_file)],\n",
        "    verbose=2,\n",
        ")\n",
        "\n",
        "search_policy = auto_scheduler.SketchPolicy(\n",
        "    task,\n",
        "    program_cost_model=auto_scheduler.XGBModel(),\n",
        "    init_search_callbacks=[\n",
        "        auto_scheduler.PreloadCustomSketchRule(meet_condition_func, apply_func, \"SparseDense\")\n",
        "    ],\n",
        ")"
      ],
      "metadata": {
        "id": "U2dZ7VFUQWBk"
      },
      "execution_count": null,
      "outputs": []
    },
    {
      "cell_type": "markdown",
      "source": [
        "**Run the search**"
      ],
      "metadata": {
        "id": "keTFMsPCQXEn"
      }
    },
    {
      "cell_type": "code",
      "source": [
        "def tune_and_evaluate(tune_option, search_policy):\n",
        "    # Run auto-tuning (search)\n",
        "    task.tune(tune_option, search_policy)\n",
        "\n",
        "    # Apply the best schedule\n",
        "    sch, args = task.apply_best(log_file)\n",
        "\n",
        "    # We can lower the schedule to see the IR after auto-scheduling.\n",
        "    # The auto-scheduler correctly performs optimizations including multi-level tiling,\n",
        "    # layout transformation, parallelization, vectorization, unrolling, and operator fusion.\n",
        "    print(\"Lowered TIR:\")\n",
        "    print(tvm.lower(sch, args, simple_mode=True))\n",
        "\n",
        "    # Check correctness and evaluate performance\n",
        "    # We build the binary and check its correctness and performance.\n",
        "    func = tvm.build(sch, args, target)\n",
        "\n",
        "    dev = tvm.cpu()\n",
        "\n",
        "    X_tvm = tvm.nd.array(X_np, device=dev)\n",
        "    W_data_tvm = tvm.nd.array(W_sp_np.data, device=dev)\n",
        "    W_indices_tvm = tvm.nd.array(W_sp_np.indices, device=dev)\n",
        "    W_indptr_tvm = tvm.nd.array(W_sp_np.indptr, device=dev)\n",
        "    B_tvm = tvm.nd.array(B_np, device=dev)\n",
        "    Y_tvm = tvm.nd.empty(Y_np.shape, device=dev)\n",
        "\n",
        "    func(X_tvm, W_data_tvm, W_indices_tvm, W_indptr_tvm, B_tvm, Y_tvm)\n",
        "\n",
        "    # Check results\n",
        "    tvm.testing.assert_allclose(Y_np, Y_tvm.numpy(), atol=1e-4, rtol=1e-4)\n",
        "\n",
        "    # Evaluate execution time.\n",
        "    evaluator = func.time_evaluator(func.entry_name, dev, min_repeat_ms=500)\n",
        "    print(\n",
        "        \"Execution time of this operator: %.3f ms\"\n",
        "        % (\n",
        "            np.median(\n",
        "                evaluator(X_tvm, W_data_tvm, W_indices_tvm, W_indptr_tvm, B_tvm, Y_tvm).results\n",
        "            )\n",
        "            * 1000\n",
        "        )\n",
        "    )\n",
        "\n",
        "\n",
        "# Notice: We do not run the tuning in our webpage server since it takes too long.\n",
        "# Uncomment the following line to run it by yourself.\n",
        "tune_and_evaluate(tune_option, search_policy)"
      ],
      "metadata": {
        "colab": {
          "base_uri": "https://localhost:8080/"
        },
        "id": "WLkDFHkEQYPZ",
        "outputId": "af9b5e36-699b-4be7-bdae-801dc4f7065d"
      },
      "execution_count": null,
      "outputs": [
        {
          "output_type": "stream",
          "name": "stdout",
          "text": [
            "\n",
            "\n",
            "\n",
            "Lowered TIR:\n",
            "# from tvm.script import ir as I\n",
            "# from tvm.script import tir as T\n",
            "\n",
            "@I.ir_module\n",
            "class Module:\n",
            "    @T.prim_func\n",
            "    def main(placeholder: T.Buffer((128, 256), \"float32\"), placeholder_1: T.Buffer((4916, 16, 1), \"float32\"), placeholder_2: T.Buffer((4916,), \"int32\"), placeholder_3: T.Buffer((33,), \"int32\"), placeholder_4: T.Buffer((128, 512), \"float32\"), compute: T.Buffer((128, 512), \"float32\")):\n",
            "        T.func_attr({\"from_legacy_te_schedule\": T.bool(True), \"tir.noalias\": T.bool(True)})\n",
            "        for i0_outer in T.parallel(8):\n",
            "            compute_1 = T.allocate([128], \"float32\", \"global\")\n",
            "            for i1_outer in range(64):\n",
            "                compute_2 = T.Buffer((128,), data=compute_1)\n",
            "                for i_outer_inner in range(2):\n",
            "                    cse_var_2: T.int32 = i1_outer // 2\n",
            "                    cse_var_1: T.int32 = i_outer_inner * 64\n",
            "                    compute_2[cse_var_1] = T.float32(0)\n",
            "                    compute_2[cse_var_1 + 1] = T.float32(0)\n",
            "                    compute_2[cse_var_1 + 2] = T.float32(0)\n",
            "                    compute_2[cse_var_1 + 3] = T.float32(0)\n",
            "                    compute_2[cse_var_1 + 4] = T.float32(0)\n",
            "                    compute_2[cse_var_1 + 5] = T.float32(0)\n",
            "                    compute_2[cse_var_1 + 6] = T.float32(0)\n",
            "                    compute_2[cse_var_1 + 7] = T.float32(0)\n",
            "                    compute_2[cse_var_1 + 8] = T.float32(0)\n",
            "                    compute_2[cse_var_1 + 9] = T.float32(0)\n",
            "                    compute_2[cse_var_1 + 10] = T.float32(0)\n",
            "                    compute_2[cse_var_1 + 11] = T.float32(0)\n",
            "                    compute_2[cse_var_1 + 12] = T.float32(0)\n",
            "                    compute_2[cse_var_1 + 13] = T.float32(0)\n",
            "                    compute_2[cse_var_1 + 14] = T.float32(0)\n",
            "                    compute_2[cse_var_1 + 15] = T.float32(0)\n",
            "                    compute_2[cse_var_1 + 16] = T.float32(0)\n",
            "                    compute_2[cse_var_1 + 17] = T.float32(0)\n",
            "                    compute_2[cse_var_1 + 18] = T.float32(0)\n",
            "                    compute_2[cse_var_1 + 19] = T.float32(0)\n",
            "                    compute_2[cse_var_1 + 20] = T.float32(0)\n",
            "                    compute_2[cse_var_1 + 21] = T.float32(0)\n",
            "                    compute_2[cse_var_1 + 22] = T.float32(0)\n",
            "                    compute_2[cse_var_1 + 23] = T.float32(0)\n",
            "                    compute_2[cse_var_1 + 24] = T.float32(0)\n",
            "                    compute_2[cse_var_1 + 25] = T.float32(0)\n",
            "                    compute_2[cse_var_1 + 26] = T.float32(0)\n",
            "                    compute_2[cse_var_1 + 27] = T.float32(0)\n",
            "                    compute_2[cse_var_1 + 28] = T.float32(0)\n",
            "                    compute_2[cse_var_1 + 29] = T.float32(0)\n",
            "                    compute_2[cse_var_1 + 30] = T.float32(0)\n",
            "                    compute_2[cse_var_1 + 31] = T.float32(0)\n",
            "                    compute_2[cse_var_1 + 32] = T.float32(0)\n",
            "                    compute_2[cse_var_1 + 33] = T.float32(0)\n",
            "                    compute_2[cse_var_1 + 34] = T.float32(0)\n",
            "                    compute_2[cse_var_1 + 35] = T.float32(0)\n",
            "                    compute_2[cse_var_1 + 36] = T.float32(0)\n",
            "                    compute_2[cse_var_1 + 37] = T.float32(0)\n",
            "                    compute_2[cse_var_1 + 38] = T.float32(0)\n",
            "                    compute_2[cse_var_1 + 39] = T.float32(0)\n",
            "                    compute_2[cse_var_1 + 40] = T.float32(0)\n",
            "                    compute_2[cse_var_1 + 41] = T.float32(0)\n",
            "                    compute_2[cse_var_1 + 42] = T.float32(0)\n",
            "                    compute_2[cse_var_1 + 43] = T.float32(0)\n",
            "                    compute_2[cse_var_1 + 44] = T.float32(0)\n",
            "                    compute_2[cse_var_1 + 45] = T.float32(0)\n",
            "                    compute_2[cse_var_1 + 46] = T.float32(0)\n",
            "                    compute_2[cse_var_1 + 47] = T.float32(0)\n",
            "                    compute_2[cse_var_1 + 48] = T.float32(0)\n",
            "                    compute_2[cse_var_1 + 49] = T.float32(0)\n",
            "                    compute_2[cse_var_1 + 50] = T.float32(0)\n",
            "                    compute_2[cse_var_1 + 51] = T.float32(0)\n",
            "                    compute_2[cse_var_1 + 52] = T.float32(0)\n",
            "                    compute_2[cse_var_1 + 53] = T.float32(0)\n",
            "                    compute_2[cse_var_1 + 54] = T.float32(0)\n",
            "                    compute_2[cse_var_1 + 55] = T.float32(0)\n",
            "                    compute_2[cse_var_1 + 56] = T.float32(0)\n",
            "                    compute_2[cse_var_1 + 57] = T.float32(0)\n",
            "                    compute_2[cse_var_1 + 58] = T.float32(0)\n",
            "                    compute_2[cse_var_1 + 59] = T.float32(0)\n",
            "                    compute_2[cse_var_1 + 60] = T.float32(0)\n",
            "                    compute_2[cse_var_1 + 61] = T.float32(0)\n",
            "                    compute_2[cse_var_1 + 62] = T.float32(0)\n",
            "                    compute_2[cse_var_1 + 63] = T.float32(0)\n",
            "                    for elem_idx in range(placeholder_3[cse_var_2 + 1] - placeholder_3[cse_var_2]):\n",
            "                        placeholder_5 = T.Buffer((78656,), data=placeholder_1.data)\n",
            "                        placeholder_6 = T.Buffer((32768,), data=placeholder.data)\n",
            "                        if T.likely(elem_idx < placeholder_3[cse_var_2 + 1] - placeholder_3[cse_var_2]):\n",
            "                            compute_2[cse_var_1] = compute_2[cse_var_1] + placeholder_5[placeholder_3[cse_var_2] * 16 + elem_idx * 16 + i1_outer % 2 * 8] * T.max(placeholder_6[i0_outer * 4096 + i_outer_inner * 2048 + placeholder_2[placeholder_3[cse_var_2] + elem_idx]], T.float32(0))\n",
            "                        if T.likely(elem_idx < placeholder_3[cse_var_2 + 1] - placeholder_3[cse_var_2]):\n",
            "                            cse_var_3: T.int32 = cse_var_1 + 1\n",
            "                            compute_2[cse_var_3] = compute_2[cse_var_3] + placeholder_5[placeholder_3[cse_var_2] * 16 + elem_idx * 16 + i1_outer % 2 * 8 + 1] * T.max(placeholder_6[i0_outer * 4096 + i_outer_inner * 2048 + placeholder_2[placeholder_3[cse_var_2] + elem_idx]], T.float32(0))\n",
            "                        if T.likely(elem_idx < placeholder_3[cse_var_2 + 1] - placeholder_3[cse_var_2]):\n",
            "                            cse_var_4: T.int32 = cse_var_1 + 2\n",
            "                            compute_2[cse_var_4] = compute_2[cse_var_4] + placeholder_5[placeholder_3[cse_var_2] * 16 + elem_idx * 16 + i1_outer % 2 * 8 + 2] * T.max(placeholder_6[i0_outer * 4096 + i_outer_inner * 2048 + placeholder_2[placeholder_3[cse_var_2] + elem_idx]], T.float32(0))\n",
            "                        if T.likely(elem_idx < placeholder_3[cse_var_2 + 1] - placeholder_3[cse_var_2]):\n",
            "                            cse_var_5: T.int32 = cse_var_1 + 3\n",
            "                            compute_2[cse_var_5] = compute_2[cse_var_5] + placeholder_5[placeholder_3[cse_var_2] * 16 + elem_idx * 16 + i1_outer % 2 * 8 + 3] * T.max(placeholder_6[i0_outer * 4096 + i_outer_inner * 2048 + placeholder_2[placeholder_3[cse_var_2] + elem_idx]], T.float32(0))\n",
            "                        if T.likely(elem_idx < placeholder_3[cse_var_2 + 1] - placeholder_3[cse_var_2]):\n",
            "                            cse_var_6: T.int32 = cse_var_1 + 4\n",
            "                            compute_2[cse_var_6] = compute_2[cse_var_6] + placeholder_5[placeholder_3[cse_var_2] * 16 + elem_idx * 16 + i1_outer % 2 * 8 + 4] * T.max(placeholder_6[i0_outer * 4096 + i_outer_inner * 2048 + placeholder_2[placeholder_3[cse_var_2] + elem_idx]], T.float32(0))\n",
            "                        if T.likely(elem_idx < placeholder_3[cse_var_2 + 1] - placeholder_3[cse_var_2]):\n",
            "                            cse_var_7: T.int32 = cse_var_1 + 5\n",
            "                            compute_2[cse_var_7] = compute_2[cse_var_7] + placeholder_5[placeholder_3[cse_var_2] * 16 + elem_idx * 16 + i1_outer % 2 * 8 + 5] * T.max(placeholder_6[i0_outer * 4096 + i_outer_inner * 2048 + placeholder_2[placeholder_3[cse_var_2] + elem_idx]], T.float32(0))\n",
            "                        if T.likely(elem_idx < placeholder_3[cse_var_2 + 1] - placeholder_3[cse_var_2]):\n",
            "                            cse_var_8: T.int32 = cse_var_1 + 6\n",
            "                            compute_2[cse_var_8] = compute_2[cse_var_8] + placeholder_5[placeholder_3[cse_var_2] * 16 + elem_idx * 16 + i1_outer % 2 * 8 + 6] * T.max(placeholder_6[i0_outer * 4096 + i_outer_inner * 2048 + placeholder_2[placeholder_3[cse_var_2] + elem_idx]], T.float32(0))\n",
            "                        if T.likely(elem_idx < placeholder_3[cse_var_2 + 1] - placeholder_3[cse_var_2]):\n",
            "                            cse_var_9: T.int32 = cse_var_1 + 7\n",
            "                            compute_2[cse_var_9] = compute_2[cse_var_9] + placeholder_5[placeholder_3[cse_var_2] * 16 + elem_idx * 16 + i1_outer % 2 * 8 + 7] * T.max(placeholder_6[i0_outer * 4096 + i_outer_inner * 2048 + placeholder_2[placeholder_3[cse_var_2] + elem_idx]], T.float32(0))\n",
            "                        if T.likely(elem_idx < placeholder_3[cse_var_2 + 1] - placeholder_3[cse_var_2]):\n",
            "                            cse_var_10: T.int32 = cse_var_1 + 8\n",
            "                            compute_2[cse_var_10] = compute_2[cse_var_10] + placeholder_5[placeholder_3[cse_var_2] * 16 + elem_idx * 16 + i1_outer % 2 * 8] * T.max(placeholder_6[i0_outer * 4096 + i_outer_inner * 2048 + placeholder_2[placeholder_3[cse_var_2] + elem_idx] + 256], T.float32(0))\n",
            "                        if T.likely(elem_idx < placeholder_3[cse_var_2 + 1] - placeholder_3[cse_var_2]):\n",
            "                            cse_var_11: T.int32 = cse_var_1 + 9\n",
            "                            compute_2[cse_var_11] = compute_2[cse_var_11] + placeholder_5[placeholder_3[cse_var_2] * 16 + elem_idx * 16 + i1_outer % 2 * 8 + 1] * T.max(placeholder_6[i0_outer * 4096 + i_outer_inner * 2048 + placeholder_2[placeholder_3[cse_var_2] + elem_idx] + 256], T.float32(0))\n",
            "                        if T.likely(elem_idx < placeholder_3[cse_var_2 + 1] - placeholder_3[cse_var_2]):\n",
            "                            cse_var_12: T.int32 = cse_var_1 + 10\n",
            "                            compute_2[cse_var_12] = compute_2[cse_var_12] + placeholder_5[placeholder_3[cse_var_2] * 16 + elem_idx * 16 + i1_outer % 2 * 8 + 2] * T.max(placeholder_6[i0_outer * 4096 + i_outer_inner * 2048 + placeholder_2[placeholder_3[cse_var_2] + elem_idx] + 256], T.float32(0))\n",
            "                        if T.likely(elem_idx < placeholder_3[cse_var_2 + 1] - placeholder_3[cse_var_2]):\n",
            "                            cse_var_13: T.int32 = cse_var_1 + 11\n",
            "                            compute_2[cse_var_13] = compute_2[cse_var_13] + placeholder_5[placeholder_3[cse_var_2] * 16 + elem_idx * 16 + i1_outer % 2 * 8 + 3] * T.max(placeholder_6[i0_outer * 4096 + i_outer_inner * 2048 + placeholder_2[placeholder_3[cse_var_2] + elem_idx] + 256], T.float32(0))\n",
            "                        if T.likely(elem_idx < placeholder_3[cse_var_2 + 1] - placeholder_3[cse_var_2]):\n",
            "                            cse_var_14: T.int32 = cse_var_1 + 12\n",
            "                            compute_2[cse_var_14] = compute_2[cse_var_14] + placeholder_5[placeholder_3[cse_var_2] * 16 + elem_idx * 16 + i1_outer % 2 * 8 + 4] * T.max(placeholder_6[i0_outer * 4096 + i_outer_inner * 2048 + placeholder_2[placeholder_3[cse_var_2] + elem_idx] + 256], T.float32(0))\n",
            "                        if T.likely(elem_idx < placeholder_3[cse_var_2 + 1] - placeholder_3[cse_var_2]):\n",
            "                            cse_var_15: T.int32 = cse_var_1 + 13\n",
            "                            compute_2[cse_var_15] = compute_2[cse_var_15] + placeholder_5[placeholder_3[cse_var_2] * 16 + elem_idx * 16 + i1_outer % 2 * 8 + 5] * T.max(placeholder_6[i0_outer * 4096 + i_outer_inner * 2048 + placeholder_2[placeholder_3[cse_var_2] + elem_idx] + 256], T.float32(0))\n",
            "                        if T.likely(elem_idx < placeholder_3[cse_var_2 + 1] - placeholder_3[cse_var_2]):\n",
            "                            cse_var_16: T.int32 = cse_var_1 + 14\n",
            "                            compute_2[cse_var_16] = compute_2[cse_var_16] + placeholder_5[placeholder_3[cse_var_2] * 16 + elem_idx * 16 + i1_outer % 2 * 8 + 6] * T.max(placeholder_6[i0_outer * 4096 + i_outer_inner * 2048 + placeholder_2[placeholder_3[cse_var_2] + elem_idx] + 256], T.float32(0))\n",
            "                        if T.likely(elem_idx < placeholder_3[cse_var_2 + 1] - placeholder_3[cse_var_2]):\n",
            "                            cse_var_17: T.int32 = cse_var_1 + 15\n",
            "                            compute_2[cse_var_17] = compute_2[cse_var_17] + placeholder_5[placeholder_3[cse_var_2] * 16 + elem_idx * 16 + i1_outer % 2 * 8 + 7] * T.max(placeholder_6[i0_outer * 4096 + i_outer_inner * 2048 + placeholder_2[placeholder_3[cse_var_2] + elem_idx] + 256], T.float32(0))\n",
            "                        if T.likely(elem_idx < placeholder_3[cse_var_2 + 1] - placeholder_3[cse_var_2]):\n",
            "                            cse_var_18: T.int32 = cse_var_1 + 16\n",
            "                            compute_2[cse_var_18] = compute_2[cse_var_18] + placeholder_5[placeholder_3[cse_var_2] * 16 + elem_idx * 16 + i1_outer % 2 * 8] * T.max(placeholder_6[i0_outer * 4096 + i_outer_inner * 2048 + placeholder_2[placeholder_3[cse_var_2] + elem_idx] + 512], T.float32(0))\n",
            "                        if T.likely(elem_idx < placeholder_3[cse_var_2 + 1] - placeholder_3[cse_var_2]):\n",
            "                            cse_var_19: T.int32 = cse_var_1 + 17\n",
            "                            compute_2[cse_var_19] = compute_2[cse_var_19] + placeholder_5[placeholder_3[cse_var_2] * 16 + elem_idx * 16 + i1_outer % 2 * 8 + 1] * T.max(placeholder_6[i0_outer * 4096 + i_outer_inner * 2048 + placeholder_2[placeholder_3[cse_var_2] + elem_idx] + 512], T.float32(0))\n",
            "                        if T.likely(elem_idx < placeholder_3[cse_var_2 + 1] - placeholder_3[cse_var_2]):\n",
            "                            cse_var_20: T.int32 = cse_var_1 + 18\n",
            "                            compute_2[cse_var_20] = compute_2[cse_var_20] + placeholder_5[placeholder_3[cse_var_2] * 16 + elem_idx * 16 + i1_outer % 2 * 8 + 2] * T.max(placeholder_6[i0_outer * 4096 + i_outer_inner * 2048 + placeholder_2[placeholder_3[cse_var_2] + elem_idx] + 512], T.float32(0))\n",
            "                        if T.likely(elem_idx < placeholder_3[cse_var_2 + 1] - placeholder_3[cse_var_2]):\n",
            "                            cse_var_21: T.int32 = cse_var_1 + 19\n",
            "                            compute_2[cse_var_21] = compute_2[cse_var_21] + placeholder_5[placeholder_3[cse_var_2] * 16 + elem_idx * 16 + i1_outer % 2 * 8 + 3] * T.max(placeholder_6[i0_outer * 4096 + i_outer_inner * 2048 + placeholder_2[placeholder_3[cse_var_2] + elem_idx] + 512], T.float32(0))\n",
            "                        if T.likely(elem_idx < placeholder_3[cse_var_2 + 1] - placeholder_3[cse_var_2]):\n",
            "                            cse_var_22: T.int32 = cse_var_1 + 20\n",
            "                            compute_2[cse_var_22] = compute_2[cse_var_22] + placeholder_5[placeholder_3[cse_var_2] * 16 + elem_idx * 16 + i1_outer % 2 * 8 + 4] * T.max(placeholder_6[i0_outer * 4096 + i_outer_inner * 2048 + placeholder_2[placeholder_3[cse_var_2] + elem_idx] + 512], T.float32(0))\n",
            "                        if T.likely(elem_idx < placeholder_3[cse_var_2 + 1] - placeholder_3[cse_var_2]):\n",
            "                            cse_var_23: T.int32 = cse_var_1 + 21\n",
            "                            compute_2[cse_var_23] = compute_2[cse_var_23] + placeholder_5[placeholder_3[cse_var_2] * 16 + elem_idx * 16 + i1_outer % 2 * 8 + 5] * T.max(placeholder_6[i0_outer * 4096 + i_outer_inner * 2048 + placeholder_2[placeholder_3[cse_var_2] + elem_idx] + 512], T.float32(0))\n",
            "                        if T.likely(elem_idx < placeholder_3[cse_var_2 + 1] - placeholder_3[cse_var_2]):\n",
            "                            cse_var_24: T.int32 = cse_var_1 + 22\n",
            "                            compute_2[cse_var_24] = compute_2[cse_var_24] + placeholder_5[placeholder_3[cse_var_2] * 16 + elem_idx * 16 + i1_outer % 2 * 8 + 6] * T.max(placeholder_6[i0_outer * 4096 + i_outer_inner * 2048 + placeholder_2[placeholder_3[cse_var_2] + elem_idx] + 512], T.float32(0))\n",
            "                        if T.likely(elem_idx < placeholder_3[cse_var_2 + 1] - placeholder_3[cse_var_2]):\n",
            "                            cse_var_25: T.int32 = cse_var_1 + 23\n",
            "                            compute_2[cse_var_25] = compute_2[cse_var_25] + placeholder_5[placeholder_3[cse_var_2] * 16 + elem_idx * 16 + i1_outer % 2 * 8 + 7] * T.max(placeholder_6[i0_outer * 4096 + i_outer_inner * 2048 + placeholder_2[placeholder_3[cse_var_2] + elem_idx] + 512], T.float32(0))\n",
            "                        if T.likely(elem_idx < placeholder_3[cse_var_2 + 1] - placeholder_3[cse_var_2]):\n",
            "                            cse_var_26: T.int32 = cse_var_1 + 24\n",
            "                            compute_2[cse_var_26] = compute_2[cse_var_26] + placeholder_5[placeholder_3[cse_var_2] * 16 + elem_idx * 16 + i1_outer % 2 * 8] * T.max(placeholder_6[i0_outer * 4096 + i_outer_inner * 2048 + placeholder_2[placeholder_3[cse_var_2] + elem_idx] + 768], T.float32(0))\n",
            "                        if T.likely(elem_idx < placeholder_3[cse_var_2 + 1] - placeholder_3[cse_var_2]):\n",
            "                            cse_var_27: T.int32 = cse_var_1 + 25\n",
            "                            compute_2[cse_var_27] = compute_2[cse_var_27] + placeholder_5[placeholder_3[cse_var_2] * 16 + elem_idx * 16 + i1_outer % 2 * 8 + 1] * T.max(placeholder_6[i0_outer * 4096 + i_outer_inner * 2048 + placeholder_2[placeholder_3[cse_var_2] + elem_idx] + 768], T.float32(0))\n",
            "                        if T.likely(elem_idx < placeholder_3[cse_var_2 + 1] - placeholder_3[cse_var_2]):\n",
            "                            cse_var_28: T.int32 = cse_var_1 + 26\n",
            "                            compute_2[cse_var_28] = compute_2[cse_var_28] + placeholder_5[placeholder_3[cse_var_2] * 16 + elem_idx * 16 + i1_outer % 2 * 8 + 2] * T.max(placeholder_6[i0_outer * 4096 + i_outer_inner * 2048 + placeholder_2[placeholder_3[cse_var_2] + elem_idx] + 768], T.float32(0))\n",
            "                        if T.likely(elem_idx < placeholder_3[cse_var_2 + 1] - placeholder_3[cse_var_2]):\n",
            "                            cse_var_29: T.int32 = cse_var_1 + 27\n",
            "                            compute_2[cse_var_29] = compute_2[cse_var_29] + placeholder_5[placeholder_3[cse_var_2] * 16 + elem_idx * 16 + i1_outer % 2 * 8 + 3] * T.max(placeholder_6[i0_outer * 4096 + i_outer_inner * 2048 + placeholder_2[placeholder_3[cse_var_2] + elem_idx] + 768], T.float32(0))\n",
            "                        if T.likely(elem_idx < placeholder_3[cse_var_2 + 1] - placeholder_3[cse_var_2]):\n",
            "                            cse_var_30: T.int32 = cse_var_1 + 28\n",
            "                            compute_2[cse_var_30] = compute_2[cse_var_30] + placeholder_5[placeholder_3[cse_var_2] * 16 + elem_idx * 16 + i1_outer % 2 * 8 + 4] * T.max(placeholder_6[i0_outer * 4096 + i_outer_inner * 2048 + placeholder_2[placeholder_3[cse_var_2] + elem_idx] + 768], T.float32(0))\n",
            "                        if T.likely(elem_idx < placeholder_3[cse_var_2 + 1] - placeholder_3[cse_var_2]):\n",
            "                            cse_var_31: T.int32 = cse_var_1 + 29\n",
            "                            compute_2[cse_var_31] = compute_2[cse_var_31] + placeholder_5[placeholder_3[cse_var_2] * 16 + elem_idx * 16 + i1_outer % 2 * 8 + 5] * T.max(placeholder_6[i0_outer * 4096 + i_outer_inner * 2048 + placeholder_2[placeholder_3[cse_var_2] + elem_idx] + 768], T.float32(0))\n",
            "                        if T.likely(elem_idx < placeholder_3[cse_var_2 + 1] - placeholder_3[cse_var_2]):\n",
            "                            cse_var_32: T.int32 = cse_var_1 + 30\n",
            "                            compute_2[cse_var_32] = compute_2[cse_var_32] + placeholder_5[placeholder_3[cse_var_2] * 16 + elem_idx * 16 + i1_outer % 2 * 8 + 6] * T.max(placeholder_6[i0_outer * 4096 + i_outer_inner * 2048 + placeholder_2[placeholder_3[cse_var_2] + elem_idx] + 768], T.float32(0))\n",
            "                        if T.likely(elem_idx < placeholder_3[cse_var_2 + 1] - placeholder_3[cse_var_2]):\n",
            "                            cse_var_33: T.int32 = cse_var_1 + 31\n",
            "                            compute_2[cse_var_33] = compute_2[cse_var_33] + placeholder_5[placeholder_3[cse_var_2] * 16 + elem_idx * 16 + i1_outer % 2 * 8 + 7] * T.max(placeholder_6[i0_outer * 4096 + i_outer_inner * 2048 + placeholder_2[placeholder_3[cse_var_2] + elem_idx] + 768], T.float32(0))\n",
            "                        if T.likely(elem_idx < placeholder_3[cse_var_2 + 1] - placeholder_3[cse_var_2]):\n",
            "                            cse_var_34: T.int32 = cse_var_1 + 32\n",
            "                            compute_2[cse_var_34] = compute_2[cse_var_34] + placeholder_5[placeholder_3[cse_var_2] * 16 + elem_idx * 16 + i1_outer % 2 * 8] * T.max(placeholder_6[i0_outer * 4096 + i_outer_inner * 2048 + placeholder_2[placeholder_3[cse_var_2] + elem_idx] + 1024], T.float32(0))\n",
            "                        if T.likely(elem_idx < placeholder_3[cse_var_2 + 1] - placeholder_3[cse_var_2]):\n",
            "                            cse_var_35: T.int32 = cse_var_1 + 33\n",
            "                            compute_2[cse_var_35] = compute_2[cse_var_35] + placeholder_5[placeholder_3[cse_var_2] * 16 + elem_idx * 16 + i1_outer % 2 * 8 + 1] * T.max(placeholder_6[i0_outer * 4096 + i_outer_inner * 2048 + placeholder_2[placeholder_3[cse_var_2] + elem_idx] + 1024], T.float32(0))\n",
            "                        if T.likely(elem_idx < placeholder_3[cse_var_2 + 1] - placeholder_3[cse_var_2]):\n",
            "                            cse_var_36: T.int32 = cse_var_1 + 34\n",
            "                            compute_2[cse_var_36] = compute_2[cse_var_36] + placeholder_5[placeholder_3[cse_var_2] * 16 + elem_idx * 16 + i1_outer % 2 * 8 + 2] * T.max(placeholder_6[i0_outer * 4096 + i_outer_inner * 2048 + placeholder_2[placeholder_3[cse_var_2] + elem_idx] + 1024], T.float32(0))\n",
            "                        if T.likely(elem_idx < placeholder_3[cse_var_2 + 1] - placeholder_3[cse_var_2]):\n",
            "                            cse_var_37: T.int32 = cse_var_1 + 35\n",
            "                            compute_2[cse_var_37] = compute_2[cse_var_37] + placeholder_5[placeholder_3[cse_var_2] * 16 + elem_idx * 16 + i1_outer % 2 * 8 + 3] * T.max(placeholder_6[i0_outer * 4096 + i_outer_inner * 2048 + placeholder_2[placeholder_3[cse_var_2] + elem_idx] + 1024], T.float32(0))\n",
            "                        if T.likely(elem_idx < placeholder_3[cse_var_2 + 1] - placeholder_3[cse_var_2]):\n",
            "                            cse_var_38: T.int32 = cse_var_1 + 36\n",
            "                            compute_2[cse_var_38] = compute_2[cse_var_38] + placeholder_5[placeholder_3[cse_var_2] * 16 + elem_idx * 16 + i1_outer % 2 * 8 + 4] * T.max(placeholder_6[i0_outer * 4096 + i_outer_inner * 2048 + placeholder_2[placeholder_3[cse_var_2] + elem_idx] + 1024], T.float32(0))\n",
            "                        if T.likely(elem_idx < placeholder_3[cse_var_2 + 1] - placeholder_3[cse_var_2]):\n",
            "                            cse_var_39: T.int32 = cse_var_1 + 37\n",
            "                            compute_2[cse_var_39] = compute_2[cse_var_39] + placeholder_5[placeholder_3[cse_var_2] * 16 + elem_idx * 16 + i1_outer % 2 * 8 + 5] * T.max(placeholder_6[i0_outer * 4096 + i_outer_inner * 2048 + placeholder_2[placeholder_3[cse_var_2] + elem_idx] + 1024], T.float32(0))\n",
            "                        if T.likely(elem_idx < placeholder_3[cse_var_2 + 1] - placeholder_3[cse_var_2]):\n",
            "                            cse_var_40: T.int32 = cse_var_1 + 38\n",
            "                            compute_2[cse_var_40] = compute_2[cse_var_40] + placeholder_5[placeholder_3[cse_var_2] * 16 + elem_idx * 16 + i1_outer % 2 * 8 + 6] * T.max(placeholder_6[i0_outer * 4096 + i_outer_inner * 2048 + placeholder_2[placeholder_3[cse_var_2] + elem_idx] + 1024], T.float32(0))\n",
            "                        if T.likely(elem_idx < placeholder_3[cse_var_2 + 1] - placeholder_3[cse_var_2]):\n",
            "                            cse_var_41: T.int32 = cse_var_1 + 39\n",
            "                            compute_2[cse_var_41] = compute_2[cse_var_41] + placeholder_5[placeholder_3[cse_var_2] * 16 + elem_idx * 16 + i1_outer % 2 * 8 + 7] * T.max(placeholder_6[i0_outer * 4096 + i_outer_inner * 2048 + placeholder_2[placeholder_3[cse_var_2] + elem_idx] + 1024], T.float32(0))\n",
            "                        if T.likely(elem_idx < placeholder_3[cse_var_2 + 1] - placeholder_3[cse_var_2]):\n",
            "                            cse_var_42: T.int32 = cse_var_1 + 40\n",
            "                            compute_2[cse_var_42] = compute_2[cse_var_42] + placeholder_5[placeholder_3[cse_var_2] * 16 + elem_idx * 16 + i1_outer % 2 * 8] * T.max(placeholder_6[i0_outer * 4096 + i_outer_inner * 2048 + placeholder_2[placeholder_3[cse_var_2] + elem_idx] + 1280], T.float32(0))\n",
            "                        if T.likely(elem_idx < placeholder_3[cse_var_2 + 1] - placeholder_3[cse_var_2]):\n",
            "                            cse_var_43: T.int32 = cse_var_1 + 41\n",
            "                            compute_2[cse_var_43] = compute_2[cse_var_43] + placeholder_5[placeholder_3[cse_var_2] * 16 + elem_idx * 16 + i1_outer % 2 * 8 + 1] * T.max(placeholder_6[i0_outer * 4096 + i_outer_inner * 2048 + placeholder_2[placeholder_3[cse_var_2] + elem_idx] + 1280], T.float32(0))\n",
            "                        if T.likely(elem_idx < placeholder_3[cse_var_2 + 1] - placeholder_3[cse_var_2]):\n",
            "                            cse_var_44: T.int32 = cse_var_1 + 42\n",
            "                            compute_2[cse_var_44] = compute_2[cse_var_44] + placeholder_5[placeholder_3[cse_var_2] * 16 + elem_idx * 16 + i1_outer % 2 * 8 + 2] * T.max(placeholder_6[i0_outer * 4096 + i_outer_inner * 2048 + placeholder_2[placeholder_3[cse_var_2] + elem_idx] + 1280], T.float32(0))\n",
            "                        if T.likely(elem_idx < placeholder_3[cse_var_2 + 1] - placeholder_3[cse_var_2]):\n",
            "                            cse_var_45: T.int32 = cse_var_1 + 43\n",
            "                            compute_2[cse_var_45] = compute_2[cse_var_45] + placeholder_5[placeholder_3[cse_var_2] * 16 + elem_idx * 16 + i1_outer % 2 * 8 + 3] * T.max(placeholder_6[i0_outer * 4096 + i_outer_inner * 2048 + placeholder_2[placeholder_3[cse_var_2] + elem_idx] + 1280], T.float32(0))\n",
            "                        if T.likely(elem_idx < placeholder_3[cse_var_2 + 1] - placeholder_3[cse_var_2]):\n",
            "                            cse_var_46: T.int32 = cse_var_1 + 44\n",
            "                            compute_2[cse_var_46] = compute_2[cse_var_46] + placeholder_5[placeholder_3[cse_var_2] * 16 + elem_idx * 16 + i1_outer % 2 * 8 + 4] * T.max(placeholder_6[i0_outer * 4096 + i_outer_inner * 2048 + placeholder_2[placeholder_3[cse_var_2] + elem_idx] + 1280], T.float32(0))\n",
            "                        if T.likely(elem_idx < placeholder_3[cse_var_2 + 1] - placeholder_3[cse_var_2]):\n",
            "                            cse_var_47: T.int32 = cse_var_1 + 45\n",
            "                            compute_2[cse_var_47] = compute_2[cse_var_47] + placeholder_5[placeholder_3[cse_var_2] * 16 + elem_idx * 16 + i1_outer % 2 * 8 + 5] * T.max(placeholder_6[i0_outer * 4096 + i_outer_inner * 2048 + placeholder_2[placeholder_3[cse_var_2] + elem_idx] + 1280], T.float32(0))\n",
            "                        if T.likely(elem_idx < placeholder_3[cse_var_2 + 1] - placeholder_3[cse_var_2]):\n",
            "                            cse_var_48: T.int32 = cse_var_1 + 46\n",
            "                            compute_2[cse_var_48] = compute_2[cse_var_48] + placeholder_5[placeholder_3[cse_var_2] * 16 + elem_idx * 16 + i1_outer % 2 * 8 + 6] * T.max(placeholder_6[i0_outer * 4096 + i_outer_inner * 2048 + placeholder_2[placeholder_3[cse_var_2] + elem_idx] + 1280], T.float32(0))\n",
            "                        if T.likely(elem_idx < placeholder_3[cse_var_2 + 1] - placeholder_3[cse_var_2]):\n",
            "                            cse_var_49: T.int32 = cse_var_1 + 47\n",
            "                            compute_2[cse_var_49] = compute_2[cse_var_49] + placeholder_5[placeholder_3[cse_var_2] * 16 + elem_idx * 16 + i1_outer % 2 * 8 + 7] * T.max(placeholder_6[i0_outer * 4096 + i_outer_inner * 2048 + placeholder_2[placeholder_3[cse_var_2] + elem_idx] + 1280], T.float32(0))\n",
            "                        if T.likely(elem_idx < placeholder_3[cse_var_2 + 1] - placeholder_3[cse_var_2]):\n",
            "                            cse_var_50: T.int32 = cse_var_1 + 48\n",
            "                            compute_2[cse_var_50] = compute_2[cse_var_50] + placeholder_5[placeholder_3[cse_var_2] * 16 + elem_idx * 16 + i1_outer % 2 * 8] * T.max(placeholder_6[i0_outer * 4096 + i_outer_inner * 2048 + placeholder_2[placeholder_3[cse_var_2] + elem_idx] + 1536], T.float32(0))\n",
            "                        if T.likely(elem_idx < placeholder_3[cse_var_2 + 1] - placeholder_3[cse_var_2]):\n",
            "                            cse_var_51: T.int32 = cse_var_1 + 49\n",
            "                            compute_2[cse_var_51] = compute_2[cse_var_51] + placeholder_5[placeholder_3[cse_var_2] * 16 + elem_idx * 16 + i1_outer % 2 * 8 + 1] * T.max(placeholder_6[i0_outer * 4096 + i_outer_inner * 2048 + placeholder_2[placeholder_3[cse_var_2] + elem_idx] + 1536], T.float32(0))\n",
            "                        if T.likely(elem_idx < placeholder_3[cse_var_2 + 1] - placeholder_3[cse_var_2]):\n",
            "                            cse_var_52: T.int32 = cse_var_1 + 50\n",
            "                            compute_2[cse_var_52] = compute_2[cse_var_52] + placeholder_5[placeholder_3[cse_var_2] * 16 + elem_idx * 16 + i1_outer % 2 * 8 + 2] * T.max(placeholder_6[i0_outer * 4096 + i_outer_inner * 2048 + placeholder_2[placeholder_3[cse_var_2] + elem_idx] + 1536], T.float32(0))\n",
            "                        if T.likely(elem_idx < placeholder_3[cse_var_2 + 1] - placeholder_3[cse_var_2]):\n",
            "                            cse_var_53: T.int32 = cse_var_1 + 51\n",
            "                            compute_2[cse_var_53] = compute_2[cse_var_53] + placeholder_5[placeholder_3[cse_var_2] * 16 + elem_idx * 16 + i1_outer % 2 * 8 + 3] * T.max(placeholder_6[i0_outer * 4096 + i_outer_inner * 2048 + placeholder_2[placeholder_3[cse_var_2] + elem_idx] + 1536], T.float32(0))\n",
            "                        if T.likely(elem_idx < placeholder_3[cse_var_2 + 1] - placeholder_3[cse_var_2]):\n",
            "                            cse_var_54: T.int32 = cse_var_1 + 52\n",
            "                            compute_2[cse_var_54] = compute_2[cse_var_54] + placeholder_5[placeholder_3[cse_var_2] * 16 + elem_idx * 16 + i1_outer % 2 * 8 + 4] * T.max(placeholder_6[i0_outer * 4096 + i_outer_inner * 2048 + placeholder_2[placeholder_3[cse_var_2] + elem_idx] + 1536], T.float32(0))\n",
            "                        if T.likely(elem_idx < placeholder_3[cse_var_2 + 1] - placeholder_3[cse_var_2]):\n",
            "                            cse_var_55: T.int32 = cse_var_1 + 53\n",
            "                            compute_2[cse_var_55] = compute_2[cse_var_55] + placeholder_5[placeholder_3[cse_var_2] * 16 + elem_idx * 16 + i1_outer % 2 * 8 + 5] * T.max(placeholder_6[i0_outer * 4096 + i_outer_inner * 2048 + placeholder_2[placeholder_3[cse_var_2] + elem_idx] + 1536], T.float32(0))\n",
            "                        if T.likely(elem_idx < placeholder_3[cse_var_2 + 1] - placeholder_3[cse_var_2]):\n",
            "                            cse_var_56: T.int32 = cse_var_1 + 54\n",
            "                            compute_2[cse_var_56] = compute_2[cse_var_56] + placeholder_5[placeholder_3[cse_var_2] * 16 + elem_idx * 16 + i1_outer % 2 * 8 + 6] * T.max(placeholder_6[i0_outer * 4096 + i_outer_inner * 2048 + placeholder_2[placeholder_3[cse_var_2] + elem_idx] + 1536], T.float32(0))\n",
            "                        if T.likely(elem_idx < placeholder_3[cse_var_2 + 1] - placeholder_3[cse_var_2]):\n",
            "                            cse_var_57: T.int32 = cse_var_1 + 55\n",
            "                            compute_2[cse_var_57] = compute_2[cse_var_57] + placeholder_5[placeholder_3[cse_var_2] * 16 + elem_idx * 16 + i1_outer % 2 * 8 + 7] * T.max(placeholder_6[i0_outer * 4096 + i_outer_inner * 2048 + placeholder_2[placeholder_3[cse_var_2] + elem_idx] + 1536], T.float32(0))\n",
            "                        if T.likely(elem_idx < placeholder_3[cse_var_2 + 1] - placeholder_3[cse_var_2]):\n",
            "                            cse_var_58: T.int32 = cse_var_1 + 56\n",
            "                            compute_2[cse_var_58] = compute_2[cse_var_58] + placeholder_5[placeholder_3[cse_var_2] * 16 + elem_idx * 16 + i1_outer % 2 * 8] * T.max(placeholder_6[i0_outer * 4096 + i_outer_inner * 2048 + placeholder_2[placeholder_3[cse_var_2] + elem_idx] + 1792], T.float32(0))\n",
            "                        if T.likely(elem_idx < placeholder_3[cse_var_2 + 1] - placeholder_3[cse_var_2]):\n",
            "                            cse_var_59: T.int32 = cse_var_1 + 57\n",
            "                            compute_2[cse_var_59] = compute_2[cse_var_59] + placeholder_5[placeholder_3[cse_var_2] * 16 + elem_idx * 16 + i1_outer % 2 * 8 + 1] * T.max(placeholder_6[i0_outer * 4096 + i_outer_inner * 2048 + placeholder_2[placeholder_3[cse_var_2] + elem_idx] + 1792], T.float32(0))\n",
            "                        if T.likely(elem_idx < placeholder_3[cse_var_2 + 1] - placeholder_3[cse_var_2]):\n",
            "                            cse_var_60: T.int32 = cse_var_1 + 58\n",
            "                            compute_2[cse_var_60] = compute_2[cse_var_60] + placeholder_5[placeholder_3[cse_var_2] * 16 + elem_idx * 16 + i1_outer % 2 * 8 + 2] * T.max(placeholder_6[i0_outer * 4096 + i_outer_inner * 2048 + placeholder_2[placeholder_3[cse_var_2] + elem_idx] + 1792], T.float32(0))\n",
            "                        if T.likely(elem_idx < placeholder_3[cse_var_2 + 1] - placeholder_3[cse_var_2]):\n",
            "                            cse_var_61: T.int32 = cse_var_1 + 59\n",
            "                            compute_2[cse_var_61] = compute_2[cse_var_61] + placeholder_5[placeholder_3[cse_var_2] * 16 + elem_idx * 16 + i1_outer % 2 * 8 + 3] * T.max(placeholder_6[i0_outer * 4096 + i_outer_inner * 2048 + placeholder_2[placeholder_3[cse_var_2] + elem_idx] + 1792], T.float32(0))\n",
            "                        if T.likely(elem_idx < placeholder_3[cse_var_2 + 1] - placeholder_3[cse_var_2]):\n",
            "                            cse_var_62: T.int32 = cse_var_1 + 60\n",
            "                            compute_2[cse_var_62] = compute_2[cse_var_62] + placeholder_5[placeholder_3[cse_var_2] * 16 + elem_idx * 16 + i1_outer % 2 * 8 + 4] * T.max(placeholder_6[i0_outer * 4096 + i_outer_inner * 2048 + placeholder_2[placeholder_3[cse_var_2] + elem_idx] + 1792], T.float32(0))\n",
            "                        if T.likely(elem_idx < placeholder_3[cse_var_2 + 1] - placeholder_3[cse_var_2]):\n",
            "                            cse_var_63: T.int32 = cse_var_1 + 61\n",
            "                            compute_2[cse_var_63] = compute_2[cse_var_63] + placeholder_5[placeholder_3[cse_var_2] * 16 + elem_idx * 16 + i1_outer % 2 * 8 + 5] * T.max(placeholder_6[i0_outer * 4096 + i_outer_inner * 2048 + placeholder_2[placeholder_3[cse_var_2] + elem_idx] + 1792], T.float32(0))\n",
            "                        if T.likely(elem_idx < placeholder_3[cse_var_2 + 1] - placeholder_3[cse_var_2]):\n",
            "                            cse_var_64: T.int32 = cse_var_1 + 62\n",
            "                            compute_2[cse_var_64] = compute_2[cse_var_64] + placeholder_5[placeholder_3[cse_var_2] * 16 + elem_idx * 16 + i1_outer % 2 * 8 + 6] * T.max(placeholder_6[i0_outer * 4096 + i_outer_inner * 2048 + placeholder_2[placeholder_3[cse_var_2] + elem_idx] + 1792], T.float32(0))\n",
            "                        if T.likely(elem_idx < placeholder_3[cse_var_2 + 1] - placeholder_3[cse_var_2]):\n",
            "                            cse_var_65: T.int32 = cse_var_1 + 63\n",
            "                            compute_2[cse_var_65] = compute_2[cse_var_65] + placeholder_5[placeholder_3[cse_var_2] * 16 + elem_idx * 16 + i1_outer % 2 * 8 + 7] * T.max(placeholder_6[i0_outer * 4096 + i_outer_inner * 2048 + placeholder_2[placeholder_3[cse_var_2] + elem_idx] + 1792], T.float32(0))\n",
            "                for i0_inner in range(16):\n",
            "                    cse_var_66: T.int32 = i0_outer * 8192 + i0_inner * 512 + i1_outer * 8\n",
            "                    compute_3 = T.Buffer((65536,), data=compute.data)\n",
            "                    placeholder_5 = T.Buffer((65536,), data=placeholder_4.data)\n",
            "                    compute_3[cse_var_66:cse_var_66 + 8] = T.max(compute_2[i0_inner * 8:i0_inner * 8 + 8] + placeholder_5[cse_var_66:cse_var_66 + 8], T.Broadcast(T.float32(0), 8))\n",
            "Execution time of this operator: 1.124 ms\n"
          ]
        }
      ]
    }
  ]
}
