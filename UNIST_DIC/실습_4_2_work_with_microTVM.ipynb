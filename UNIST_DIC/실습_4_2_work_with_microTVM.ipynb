{
  "nbformat": 4,
  "nbformat_minor": 0,
  "metadata": {
    "colab": {
      "provenance": [],
      "include_colab_link": true
    },
    "kernelspec": {
      "name": "python3",
      "display_name": "Python 3"
    },
    "language_info": {
      "name": "python"
    }
  },
  "cells": [
    {
      "cell_type": "markdown",
      "metadata": {
        "id": "view-in-github",
        "colab_type": "text"
      },
      "source": [
        "<a href=\"https://colab.research.google.com/github/seongheechoi/education/blob/main/%EC%8B%A4%EC%8A%B5_4_2_work_with_microTVM.ipynb\" target=\"_parent\"><img src=\"https://colab.research.google.com/assets/colab-badge.svg\" alt=\"Open In Colab\"/></a>"
      ]
    },
    {
      "cell_type": "markdown",
      "source": [
        "# **TVM 실습자료 4.2: microTVM**"
      ],
      "metadata": {
        "id": "4XIfSqhqIJRv"
      }
    },
    {
      "cell_type": "code",
      "source": [
        "!pip install numpy==1.26.4\n",
        "import numpy as np\n",
        "print(np.__version__)\n",
        "!pip list | grep numpy"
      ],
      "metadata": {
        "colab": {
          "base_uri": "https://localhost:8080/",
          "height": 417
        },
        "id": "tGvhgmjvIIuo",
        "outputId": "fb7e5d96-797f-4fad-da29-3d4886f75c9a"
      },
      "execution_count": null,
      "outputs": [
        {
          "output_type": "stream",
          "name": "stdout",
          "text": [
            "Collecting numpy==1.26.4\n",
            "  Downloading numpy-1.26.4-cp311-cp311-manylinux_2_17_x86_64.manylinux2014_x86_64.whl.metadata (61 kB)\n",
            "\u001b[2K     \u001b[90m━━━━━━━━━━━━━━━━━━━━━━━━━━━━━━━━━━━━━━━━\u001b[0m \u001b[32m61.0/61.0 kB\u001b[0m \u001b[31m2.6 MB/s\u001b[0m eta \u001b[36m0:00:00\u001b[0m\n",
            "\u001b[?25hDownloading numpy-1.26.4-cp311-cp311-manylinux_2_17_x86_64.manylinux2014_x86_64.whl (18.3 MB)\n",
            "\u001b[2K   \u001b[90m━━━━━━━━━━━━━━━━━━━━━━━━━━━━━━━━━━━━━━━━\u001b[0m \u001b[32m18.3/18.3 MB\u001b[0m \u001b[31m85.7 MB/s\u001b[0m eta \u001b[36m0:00:00\u001b[0m\n",
            "\u001b[?25hInstalling collected packages: numpy\n",
            "  Attempting uninstall: numpy\n",
            "    Found existing installation: numpy 2.0.2\n",
            "    Uninstalling numpy-2.0.2:\n",
            "      Successfully uninstalled numpy-2.0.2\n",
            "\u001b[31mERROR: pip's dependency resolver does not currently take into account all the packages that are installed. This behaviour is the source of the following dependency conflicts.\n",
            "opencv-python-headless 4.12.0.88 requires numpy<2.3.0,>=2; python_version >= \"3.9\", but you have numpy 1.26.4 which is incompatible.\n",
            "thinc 8.3.6 requires numpy<3.0.0,>=2.0.0, but you have numpy 1.26.4 which is incompatible.\u001b[0m\u001b[31m\n",
            "\u001b[0mSuccessfully installed numpy-1.26.4\n"
          ]
        },
        {
          "output_type": "display_data",
          "data": {
            "application/vnd.colab-display-data+json": {
              "pip_warning": {
                "packages": [
                  "numpy"
                ]
              },
              "id": "f08f1b9b108a4e10be3856dc649c6601"
            }
          },
          "metadata": {}
        },
        {
          "output_type": "stream",
          "name": "stdout",
          "text": [
            "2.0.2\n",
            "numpy                                 1.26.4\n"
          ]
        }
      ]
    },
    {
      "cell_type": "code",
      "execution_count": null,
      "metadata": {
        "colab": {
          "base_uri": "https://localhost:8080/"
        },
        "id": "UR16NnxBrNZe",
        "outputId": "6c70c455-8e5a-46d5-991e-1a95215212f4"
      },
      "outputs": [
        {
          "output_type": "stream",
          "name": "stdout",
          "text": [
            "Requirement already satisfied: pip in /usr/local/lib/python3.11/dist-packages (24.1.2)\n",
            "Collecting pip\n",
            "  Downloading pip-25.1.1-py3-none-any.whl.metadata (3.6 kB)\n",
            "Downloading pip-25.1.1-py3-none-any.whl (1.8 MB)\n",
            "\u001b[2K   \u001b[90m━━━━━━━━━━━━━━━━━━━━━━━━━━━━━━━━━━━━━━━━\u001b[0m \u001b[32m1.8/1.8 MB\u001b[0m \u001b[31m19.6 MB/s\u001b[0m eta \u001b[36m0:00:00\u001b[0m\n",
            "\u001b[?25hInstalling collected packages: pip\n",
            "  Attempting uninstall: pip\n",
            "    Found existing installation: pip 24.1.2\n",
            "    Uninstalling pip-24.1.2:\n",
            "      Successfully uninstalled pip-24.1.2\n",
            "Successfully installed pip-25.1.1\n",
            "Collecting apache-tvm\n",
            "  Downloading apache_tvm-0.14.dev273-cp311-cp311-manylinux_2_17_x86_64.manylinux2014_x86_64.whl.metadata (8.3 kB)\n",
            "Requirement already satisfied: attrs in /usr/local/lib/python3.11/dist-packages (from apache-tvm) (25.3.0)\n",
            "Requirement already satisfied: cloudpickle in /usr/local/lib/python3.11/dist-packages (from apache-tvm) (3.1.1)\n",
            "Requirement already satisfied: decorator in /usr/local/lib/python3.11/dist-packages (from apache-tvm) (4.4.2)\n",
            "Requirement already satisfied: ml-dtypes in /usr/local/lib/python3.11/dist-packages (from apache-tvm) (0.4.1)\n",
            "Requirement already satisfied: numpy in /usr/local/lib/python3.11/dist-packages (from apache-tvm) (1.26.4)\n",
            "Requirement already satisfied: psutil in /usr/local/lib/python3.11/dist-packages (from apache-tvm) (5.9.5)\n",
            "Requirement already satisfied: scipy in /usr/local/lib/python3.11/dist-packages (from apache-tvm) (1.15.3)\n",
            "Requirement already satisfied: tornado in /usr/local/lib/python3.11/dist-packages (from apache-tvm) (6.4.2)\n",
            "Requirement already satisfied: typing-extensions in /usr/local/lib/python3.11/dist-packages (from apache-tvm) (4.14.1)\n",
            "Downloading apache_tvm-0.14.dev273-cp311-cp311-manylinux_2_17_x86_64.manylinux2014_x86_64.whl (69.1 MB)\n",
            "\u001b[2K   \u001b[90m━━━━━━━━━━━━━━━━━━━━━━━━━━━━━━━━━━━━━━━━\u001b[0m \u001b[32m69.1/69.1 MB\u001b[0m \u001b[31m52.2 MB/s\u001b[0m eta \u001b[36m0:00:00\u001b[0m\n",
            "\u001b[?25hInstalling collected packages: apache-tvm\n",
            "Successfully installed apache-tvm-0.14.dev273\n"
          ]
        }
      ],
      "source": [
        "# Linux/MacOS CPU build only!\n",
        "# See tlcpack.ai for other pre-built binaries including CUDA\n",
        "!python -m pip install --upgrade pip\n",
        "!pip install apache-tvm"
      ]
    },
    {
      "cell_type": "markdown",
      "source": [
        "# **Model Tuning with microTVM**"
      ],
      "metadata": {
        "id": "2vi-vM4jwfuG"
      }
    },
    {
      "cell_type": "code",
      "source": [
        "import json\n",
        "import numpy as np\n",
        "import pathlib\n",
        "\n",
        "import tvm\n",
        "from tvm.relay.backend import Runtime\n",
        "import tvm.micro.testing"
      ],
      "metadata": {
        "id": "4bFIZzpZsR67"
      },
      "execution_count": null,
      "outputs": []
    },
    {
      "cell_type": "markdown",
      "source": [
        "**Defining the model**"
      ],
      "metadata": {
        "id": "Akbz7TUusTu2"
      }
    },
    {
      "cell_type": "code",
      "source": [
        "data_shape = (1, 3, 10, 10)\n",
        "weight_shape = (6, 3, 5, 5)\n",
        "\n",
        "data = tvm.relay.var(\"data\", tvm.relay.TensorType(data_shape, \"float32\"))\n",
        "weight = tvm.relay.var(\"weight\", tvm.relay.TensorType(weight_shape, \"float32\"))\n",
        "\n",
        "y = tvm.relay.nn.conv2d(\n",
        "    data,\n",
        "    weight,\n",
        "    padding=(2, 2),\n",
        "    kernel_size=(5, 5),\n",
        "    kernel_layout=\"OIHW\",\n",
        "    out_dtype=\"float32\",\n",
        ")\n",
        "f = tvm.relay.Function([data, weight], y)\n",
        "\n",
        "relay_mod = tvm.IRModule.from_expr(f)\n",
        "relay_mod = tvm.relay.transform.InferType()(relay_mod)\n",
        "\n",
        "weight_sample = np.random.rand(\n",
        "    weight_shape[0], weight_shape[1], weight_shape[2], weight_shape[3]\n",
        ").astype(\"float32\")\n",
        "params = {\"weight\": weight_sample}"
      ],
      "metadata": {
        "id": "FZKOK5sWsTJH"
      },
      "execution_count": null,
      "outputs": []
    },
    {
      "cell_type": "markdown",
      "source": [
        "**Defining the target**"
      ],
      "metadata": {
        "id": "aCRbbIeVsayy"
      }
    },
    {
      "cell_type": "code",
      "source": [
        "RUNTIME = Runtime(\"crt\", {\"system-lib\": True})\n",
        "TARGET = tvm.target.target.micro(\"host\")"
      ],
      "metadata": {
        "id": "OT6J4kShsY__"
      },
      "execution_count": null,
      "outputs": []
    },
    {
      "cell_type": "markdown",
      "source": [
        "**Extracting tuning tasks**"
      ],
      "metadata": {
        "id": "O9GU_qR3swXA"
      }
    },
    {
      "cell_type": "code",
      "source": [
        "pass_context = tvm.transform.PassContext(opt_level=3, config={\"tir.disable_vectorize\": True})\n",
        "with pass_context:\n",
        "    tasks = tvm.autotvm.task.extract_from_program(relay_mod[\"main\"], {}, TARGET)\n",
        "assert len(tasks) > 0"
      ],
      "metadata": {
        "id": "2z-yB_WGsuX-"
      },
      "execution_count": null,
      "outputs": []
    },
    {
      "cell_type": "markdown",
      "source": [
        "**Configuring microTVM**"
      ],
      "metadata": {
        "id": "c5IlpptesyFM"
      }
    },
    {
      "cell_type": "code",
      "source": [
        "module_loader = tvm.micro.AutoTvmModuleLoader(\n",
        "    template_project_dir=pathlib.Path(tvm.micro.get_microtvm_template_projects(\"crt\")),\n",
        "    project_options={\"verbose\": False},\n",
        ")\n",
        "builder = tvm.autotvm.LocalBuilder(\n",
        "    n_parallel=1,\n",
        "    build_kwargs={\"build_option\": {\"tir.disable_vectorize\": True}},\n",
        "    do_fork=True,\n",
        "    build_func=tvm.micro.autotvm_build_func,\n",
        "    runtime=RUNTIME,\n",
        ")\n",
        "runner = tvm.autotvm.LocalRunner(number=1, repeat=1, timeout=100, module_loader=module_loader)\n",
        "\n",
        "measure_option = tvm.autotvm.measure_option(builder=builder, runner=runner)"
      ],
      "metadata": {
        "id": "kS3c6JncsxiC"
      },
      "execution_count": null,
      "outputs": []
    },
    {
      "cell_type": "markdown",
      "source": [
        "**Run Autotuning**"
      ],
      "metadata": {
        "id": "btVU6HHrs1qz"
      }
    },
    {
      "cell_type": "code",
      "source": [
        "import os\n",
        "\n",
        "autotune_log_file = pathlib.Path(\"microtvm_autotune.log.txt\")\n",
        "if os.path.exists(autotune_log_file):\n",
        "    os.remove(autotune_log_file)\n",
        "\n",
        "num_trials = 10\n",
        "for task in tasks:\n",
        "    tuner = tvm.autotvm.tuner.GATuner(task)\n",
        "    tuner.tune(\n",
        "        n_trial=num_trials,\n",
        "        measure_option=measure_option,\n",
        "        callbacks=[\n",
        "            tvm.autotvm.callback.log_to_file(str(autotune_log_file)),\n",
        "            tvm.autotvm.callback.progress_bar(num_trials, si_prefix=\"M\"),\n",
        "        ],\n",
        "        si_prefix=\"M\",\n",
        "    )"
      ],
      "metadata": {
        "colab": {
          "base_uri": "https://localhost:8080/"
        },
        "id": "6e68xbo0s3A8",
        "outputId": "059baa7f-9578-4e25-b171-c0caa73fd3ce"
      },
      "execution_count": null,
      "outputs": [
        {
          "output_type": "stream",
          "name": "stdout",
          "text": [
            " Current/Best:  274.39/ 281.78 MFLOPS | Progress: (10/10) | 95.07 s Done.\n"
          ]
        }
      ]
    },
    {
      "cell_type": "markdown",
      "source": [
        "**Timing the untuned program**"
      ],
      "metadata": {
        "id": "KxSDA_NRtE49"
      }
    },
    {
      "cell_type": "code",
      "source": [
        "with pass_context:\n",
        "    lowered = tvm.relay.build(relay_mod, target=TARGET, runtime=RUNTIME, params=params)\n",
        "\n",
        "temp_dir = tvm.contrib.utils.tempdir()\n",
        "project = tvm.micro.generate_project(\n",
        "    str(tvm.micro.get_microtvm_template_projects(\"crt\")),\n",
        "    lowered,\n",
        "    temp_dir / \"project\",\n",
        "    {\"verbose\": False},\n",
        ")\n",
        "\n",
        "project.build()\n",
        "project.flash()\n",
        "with tvm.micro.Session(project.transport()) as session:\n",
        "    debug_module = tvm.micro.create_local_debug_executor(\n",
        "        lowered.get_graph_json(), session.get_system_lib(), session.device\n",
        "    )\n",
        "    debug_module.set_input(**lowered.get_params())\n",
        "    print(\"########## Build without Autotuning ##########\")\n",
        "    debug_module.run()\n",
        "    del debug_module"
      ],
      "metadata": {
        "colab": {
          "base_uri": "https://localhost:8080/"
        },
        "id": "vejA3lljs741",
        "outputId": "405b24c8-106b-4e4b-ddbb-afbf848e02f6"
      },
      "execution_count": null,
      "outputs": [
        {
          "output_type": "stream",
          "name": "stdout",
          "text": [
            "########## Build without Autotuning ##########\n",
            "Node Name                                     Ops                                           Time(us)  Time(%)  Shape              Inputs  Outputs  Measurements(us)  \n",
            "---------                                     ---                                           --------  -------  -----              ------  -------  ----------------  \n",
            "tvmgen_default_fused_nn_contrib_conv2d_NCHWc  tvmgen_default_fused_nn_contrib_conv2d_NCHWc  360.4     98.756   (1, 2, 10, 10, 3)  2       1        [360.4]           \n",
            "tvmgen_default_fused_layout_transform_1       tvmgen_default_fused_layout_transform_1       3.428     0.939    (1, 6, 10, 10)     1       1        [3.428]           \n",
            "tvmgen_default_fused_layout_transform         tvmgen_default_fused_layout_transform         1.11      0.304    (1, 1, 10, 10, 3)  1       1        [1.11]            \n",
            "Total_time                                    -                                             364.938   -        -                  -       -        -                 \n"
          ]
        }
      ]
    },
    {
      "cell_type": "markdown",
      "source": [
        "**Timing the tuned program**"
      ],
      "metadata": {
        "id": "nYkGy9aOtKmw"
      }
    },
    {
      "cell_type": "code",
      "source": [
        "with tvm.autotvm.apply_history_best(str(autotune_log_file)):\n",
        "    with pass_context:\n",
        "        lowered_tuned = tvm.relay.build(relay_mod, target=TARGET, runtime=RUNTIME, params=params)\n",
        "\n",
        "temp_dir = tvm.contrib.utils.tempdir()\n",
        "project = tvm.micro.generate_project(\n",
        "    str(tvm.micro.get_microtvm_template_projects(\"crt\")),\n",
        "    lowered_tuned,\n",
        "    temp_dir / \"project\",\n",
        "    {\"verbose\": False},\n",
        ")\n",
        "\n",
        "project.build()\n",
        "project.flash()\n",
        "with tvm.micro.Session(project.transport()) as session:\n",
        "    debug_module = tvm.micro.create_local_debug_executor(\n",
        "        lowered_tuned.get_graph_json(), session.get_system_lib(), session.device\n",
        "    )\n",
        "    debug_module.set_input(**lowered_tuned.get_params())\n",
        "    print(\"########## Build with Autotuning ##########\")\n",
        "    debug_module.run()\n",
        "    del debug_module"
      ],
      "metadata": {
        "colab": {
          "base_uri": "https://localhost:8080/"
        },
        "id": "LzZPcfpntLiB",
        "outputId": "2c1bc0eb-dba2-4c0a-d1b7-dc8780ec018a"
      },
      "execution_count": null,
      "outputs": [
        {
          "output_type": "stream",
          "name": "stdout",
          "text": [
            "########## Build with Autotuning ##########\n",
            "Node Name                                     Ops                                           Time(us)  Time(%)  Shape              Inputs  Outputs  Measurements(us)  \n",
            "---------                                     ---                                           --------  -------  -----              ------  -------  ----------------  \n",
            "tvmgen_default_fused_nn_contrib_conv2d_NCHWc  tvmgen_default_fused_nn_contrib_conv2d_NCHWc  121.2     97.521   (1, 6, 10, 10, 1)  2       1        [121.2]           \n",
            "tvmgen_default_fused_layout_transform_1       tvmgen_default_fused_layout_transform_1       2.088     1.68     (1, 6, 10, 10)     1       1        [2.088]           \n",
            "tvmgen_default_fused_layout_transform         tvmgen_default_fused_layout_transform         0.993     0.799    (1, 3, 10, 10, 1)  1       1        [0.993]           \n",
            "Total_time                                    -                                             124.281   -        -                  -       -        -                 \n"
          ]
        }
      ]
    },
    {
      "cell_type": "markdown",
      "source": [
        "# **microTVM TFLite Tutorial**"
      ],
      "metadata": {
        "id": "FCRNRN3jwc3d"
      }
    },
    {
      "cell_type": "code",
      "source": [
        "!pip install pyserial==3.5 tflite==2.1"
      ],
      "metadata": {
        "colab": {
          "base_uri": "https://localhost:8080/"
        },
        "id": "TCxcs6F6xXuu",
        "outputId": "56f2a9a2-c646-4809-ad8a-ffd87c343c9b"
      },
      "execution_count": null,
      "outputs": [
        {
          "output_type": "stream",
          "name": "stdout",
          "text": [
            "Collecting pyserial==3.5\n",
            "  Downloading pyserial-3.5-py2.py3-none-any.whl.metadata (1.6 kB)\n",
            "Collecting tflite==2.1\n",
            "  Downloading tflite-2.1.0-py2.py3-none-any.whl.metadata (5.2 kB)\n",
            "Requirement already satisfied: flatbuffers in /usr/local/lib/python3.11/dist-packages (from tflite==2.1) (25.2.10)\n",
            "Downloading pyserial-3.5-py2.py3-none-any.whl (90 kB)\n",
            "Downloading tflite-2.1.0-py2.py3-none-any.whl (71 kB)\n",
            "Installing collected packages: pyserial, tflite\n",
            "\u001b[2K   \u001b[90m━━━━━━━━━━━━━━━━━━━━━━━━━━━━━━━━━━━━━━━━\u001b[0m \u001b[32m2/2\u001b[0m [tflite]\n",
            "\u001b[1A\u001b[2KSuccessfully installed pyserial-3.5 tflite-2.1.0\n"
          ]
        }
      ]
    },
    {
      "cell_type": "code",
      "source": [
        "import json\n",
        "import tarfile\n",
        "import pathlib\n",
        "import tempfile\n",
        "import numpy as np\n",
        "\n",
        "import tvm\n",
        "import tvm.micro\n",
        "import tvm.micro.testing\n",
        "from tvm import relay\n",
        "import tvm.contrib.utils\n",
        "from tvm.micro import export_model_library_format\n",
        "from tvm.contrib.download import download_testdata\n",
        "\n",
        "model_url = (\n",
        "    \"https://github.com/tlc-pack/web-data/raw/main/testdata/microTVM/model/sine_model.tflite\"\n",
        ")\n",
        "model_file = \"sine_model.tflite\"\n",
        "model_path = download_testdata(model_url, model_file, module=\"data\")\n",
        "\n",
        "tflite_model_buf = open(model_path, \"rb\").read()"
      ],
      "metadata": {
        "id": "NAzRVl5_xY1d"
      },
      "execution_count": null,
      "outputs": []
    },
    {
      "cell_type": "code",
      "source": [
        "try:\n",
        "    import tflite\n",
        "\n",
        "    tflite_model = tflite.Model.GetRootAsModel(tflite_model_buf, 0)\n",
        "except AttributeError:\n",
        "    import tflite.Model\n",
        "\n",
        "    tflite_model = tflite.Model.Model.GetRootAsModel(tflite_model_buf, 0)"
      ],
      "metadata": {
        "id": "h6XYFHmbzxHR"
      },
      "execution_count": null,
      "outputs": []
    },
    {
      "cell_type": "code",
      "source": [
        "version = tflite_model.Version()\n",
        "print(\"Model Version: \" + str(version))"
      ],
      "metadata": {
        "colab": {
          "base_uri": "https://localhost:8080/"
        },
        "id": "_eErE0WnzyZ0",
        "outputId": "ad8861c9-8280-4c3e-985d-4aeb0a0fa7d4"
      },
      "execution_count": null,
      "outputs": [
        {
          "output_type": "stream",
          "name": "stdout",
          "text": [
            "Model Version: 3\n"
          ]
        }
      ]
    },
    {
      "cell_type": "code",
      "source": [
        "input_tensor = \"dense_4_input\"\n",
        "input_shape = (1,)\n",
        "input_dtype = \"float32\"\n",
        "\n",
        "mod, params = relay.frontend.from_tflite(\n",
        "    tflite_model, shape_dict={input_tensor: input_shape}, dtype_dict={input_tensor: input_dtype}\n",
        ")"
      ],
      "metadata": {
        "id": "xkVoCMzjzz8g"
      },
      "execution_count": null,
      "outputs": []
    },
    {
      "cell_type": "markdown",
      "source": [
        "**Defining the target**"
      ],
      "metadata": {
        "id": "8uUbdw9vz0jO"
      }
    },
    {
      "cell_type": "code",
      "source": [
        "RUNTIME = tvm.relay.backend.Runtime(\"crt\", {\"system-lib\": True})\n",
        "TARGET = tvm.target.target.micro(\"host\")"
      ],
      "metadata": {
        "id": "UoLDxqIaz2Fd"
      },
      "execution_count": null,
      "outputs": []
    },
    {
      "cell_type": "code",
      "source": [
        "with tvm.transform.PassContext(opt_level=3, config={\"tir.disable_vectorize\": True}):\n",
        "    module = relay.build(mod, target=TARGET, runtime=RUNTIME, params=params)"
      ],
      "metadata": {
        "id": "3okuu_k1z9A4"
      },
      "execution_count": null,
      "outputs": []
    },
    {
      "cell_type": "markdown",
      "source": [
        "**Inspecting the compilation output**"
      ],
      "metadata": {
        "id": "sKXFiG3Kz-Q1"
      }
    },
    {
      "cell_type": "code",
      "source": [
        "c_source_module = module.get_lib().imported_modules[0]\n",
        "assert c_source_module.type_key == \"c\", \"tutorial is broken\"\n",
        "\n",
        "c_source_code = c_source_module.get_source()\n",
        "first_few_lines = c_source_code.split(\"\\n\")[:10]\n",
        "assert any(\n",
        "    l.startswith(\"TVM_DLL int32_t tvmgen_default_\") for l in first_few_lines\n",
        "), f\"tutorial is broken: {first_few_lines!r}\"\n",
        "print(\"\\n\".join(first_few_lines))"
      ],
      "metadata": {
        "colab": {
          "base_uri": "https://localhost:8080/"
        },
        "id": "5tBpKV_cz-4W",
        "outputId": "cfb66b73-4dbe-4c17-aaf7-cd4b9d0ab68c"
      },
      "execution_count": null,
      "outputs": [
        {
          "output_type": "stream",
          "name": "stdout",
          "text": [
            "// tvm target: c -keys=cpu -model=host\n",
            "#define TVM_EXPORTS\n",
            "#include \"tvm/runtime/c_runtime_api.h\"\n",
            "#include \"tvm/runtime/c_backend_api.h\"\n",
            "#include <math.h>\n",
            "#include <stdbool.h>\n",
            "#ifdef __cplusplus\n",
            "extern \"C\"\n",
            "#endif\n",
            "TVM_DLL int32_t tvmgen_default_fused_nn_contrib_dense_pack_add(void* args, int32_t* arg_type_ids, int32_t num_args, void* out_ret_value, int32_t* out_ret_tcode, void* resource_handle);\n"
          ]
        }
      ]
    },
    {
      "cell_type": "markdown",
      "source": [
        "**Compiling the generated code**"
      ],
      "metadata": {
        "id": "FpaDne9q0FJq"
      }
    },
    {
      "cell_type": "code",
      "source": [
        "# Get a temporary path where we can store the tarball (since this is running as a tutorial).\n",
        "\n",
        "temp_dir = tvm.contrib.utils.tempdir()\n",
        "model_tar_path = temp_dir / \"model.tar\"\n",
        "export_model_library_format(module, model_tar_path)\n",
        "\n",
        "with tarfile.open(model_tar_path, \"r:*\") as tar_f:\n",
        "    print(\"\\n\".join(f\" - {m.name}\" for m in tar_f.getmembers()))\n",
        "\n",
        "# TVM also provides a standard way for embedded platforms to automatically generate a standalone\n",
        "# project, compile and flash it to a target, and communicate with it using the standard TVM RPC\n",
        "# protocol. The Model Library Format serves as the model input to this process. When embedded\n",
        "# platforms provide such an integration, they can be used directly by TVM for both host-driven\n",
        "# inference and autotuning . This integration is provided by the\n",
        "# `microTVM Project API` <https://github.com/apache/tvm-rfcs/blob/main/rfcs/0008-microtvm-project-api.md>_,\n",
        "#\n",
        "# Embedded platforms need to provide a Template Project containing a microTVM API Server (typically,\n",
        "# this lives in a file ``microtvm_api_server.py`` in the root directory). Let's use the example ``host``\n",
        "# project in this tutorial, which simulates the device using a POSIX subprocess and pipes:\n",
        "\n",
        "template_project_path = pathlib.Path(tvm.micro.get_microtvm_template_projects(\"crt\"))\n",
        "project_options = {}  # You can use options to provide platform-specific options through TVM.\n",
        "\n",
        "# Create a temporary directory\n",
        "temp_dir = tvm.contrib.utils.tempdir()\n",
        "generated_project_dir = temp_dir / \"generated-project\"\n",
        "generated_project = tvm.micro.generate_project(\n",
        "    template_project_path, module, generated_project_dir, project_options\n",
        ")\n",
        "\n",
        "# Build and flash the project\n",
        "generated_project.build()\n",
        "generated_project.flash()"
      ],
      "metadata": {
        "colab": {
          "base_uri": "https://localhost:8080/"
        },
        "id": "TEja3an-0ELz",
        "outputId": "ac23bf60-cb9a-48d7-ac3c-87d024ecb3d0"
      },
      "execution_count": null,
      "outputs": [
        {
          "output_type": "stream",
          "name": "stdout",
          "text": [
            " - .\n",
            " - ./codegen\n",
            " - ./codegen/host\n",
            " - ./codegen/host/src\n",
            " - ./codegen/host/src/default_lib0.c\n",
            " - ./codegen/host/src/default_lib1.c\n",
            " - ./executor-config\n",
            " - ./executor-config/graph\n",
            " - ./executor-config/graph/default.graph\n",
            " - ./metadata.json\n",
            " - ./parameters\n",
            " - ./parameters/default.params\n",
            " - ./src\n",
            " - ./src/default.relay\n"
          ]
        }
      ]
    },
    {
      "cell_type": "code",
      "source": [
        "with tvm.micro.Session(transport_context_manager=generated_project.transport()) as session:\n",
        "    graph_mod = tvm.micro.create_local_graph_executor(\n",
        "        module.get_graph_json(), session.get_system_lib(), session.device\n",
        "    )\n",
        "\n",
        "    # Set the model parameters using the lowered parameters produced by `relay.build`.\n",
        "    graph_mod.set_input(**module.get_params())\n",
        "\n",
        "    # The model consumes a single float32 value and returns a predicted sine value.  To pass the\n",
        "    # input value we construct a tvm.nd.array object with a single contrived number as input. For\n",
        "    # this model values of 0 to 2Pi are acceptable.\n",
        "    graph_mod.set_input(input_tensor, tvm.nd.array(np.array([0.5], dtype=\"float32\")))\n",
        "    graph_mod.run()\n",
        "\n",
        "    tvm_output = graph_mod.get_output(0).numpy()\n",
        "    print(\"result is: \" + str(tvm_output))"
      ],
      "metadata": {
        "id": "Vty6m8Xe0H8m",
        "outputId": "61e083c9-5bc0-44b4-fc6c-044d89ced297",
        "colab": {
          "base_uri": "https://localhost:8080/"
        }
      },
      "execution_count": null,
      "outputs": [
        {
          "output_type": "stream",
          "name": "stdout",
          "text": [
            "result is: [[0.4443792]]\n"
          ]
        }
      ]
    }
  ]
}
