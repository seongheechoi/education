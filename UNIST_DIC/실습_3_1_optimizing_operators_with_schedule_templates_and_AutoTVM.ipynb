{
  "nbformat": 4,
  "nbformat_minor": 0,
  "metadata": {
    "colab": {
      "provenance": [],
      "include_colab_link": true
    },
    "kernelspec": {
      "name": "python3",
      "display_name": "Python 3"
    },
    "language_info": {
      "name": "python"
    }
  },
  "cells": [
    {
      "cell_type": "markdown",
      "metadata": {
        "id": "view-in-github",
        "colab_type": "text"
      },
      "source": [
        "<a href=\"https://colab.research.google.com/github/seongheechoi/education/blob/main/%EC%8B%A4%EC%8A%B5_3_1_optimizing_operators_with_schedule_templates_and_AutoTVM.ipynb\" target=\"_parent\"><img src=\"https://colab.research.google.com/assets/colab-badge.svg\" alt=\"Open In Colab\"/></a>"
      ]
    },
    {
      "cell_type": "markdown",
      "source": [
        "# **TVM 실습자료 3.1: Optimizing Operators with Schedule Templates and AutoTVM**"
      ],
      "metadata": {
        "id": "-GBA20o72Z67"
      }
    },
    {
      "cell_type": "code",
      "source": [
        "!pip install numpy==1.26.4\n",
        "import numpy as np\n",
        "print(np.__version__)\n",
        "!pip list | grep numpy"
      ],
      "metadata": {
        "colab": {
          "base_uri": "https://localhost:8080/"
        },
        "id": "kMf3_clU2UGR",
        "outputId": "606ffaef-bf67-48e1-c303-29388682cc4e"
      },
      "execution_count": null,
      "outputs": [
        {
          "output_type": "stream",
          "name": "stdout",
          "text": [
            "Requirement already satisfied: numpy==1.26.4 in /usr/local/lib/python3.11/dist-packages (1.26.4)\n",
            "1.26.4\n",
            "numpy                                 1.26.4\n"
          ]
        }
      ]
    },
    {
      "cell_type": "code",
      "execution_count": null,
      "metadata": {
        "colab": {
          "base_uri": "https://localhost:8080/"
        },
        "id": "qynnsk0sxzSf",
        "outputId": "2e0b313a-29c2-454d-8e26-efaf237b9e19"
      },
      "outputs": [
        {
          "output_type": "stream",
          "name": "stdout",
          "text": [
            "Requirement already satisfied: pip in /usr/local/lib/python3.11/dist-packages (24.1.2)\n",
            "Collecting pip\n",
            "  Downloading pip-25.1.1-py3-none-any.whl.metadata (3.6 kB)\n",
            "Downloading pip-25.1.1-py3-none-any.whl (1.8 MB)\n",
            "\u001b[2K   \u001b[90m━━━━━━━━━━━━━━━━━━━━━━━━━━━━━━━━━━━━━━━━\u001b[0m \u001b[32m1.8/1.8 MB\u001b[0m \u001b[31m15.7 MB/s\u001b[0m eta \u001b[36m0:00:00\u001b[0m\n",
            "\u001b[?25hInstalling collected packages: pip\n",
            "  Attempting uninstall: pip\n",
            "    Found existing installation: pip 24.1.2\n",
            "    Uninstalling pip-24.1.2:\n",
            "      Successfully uninstalled pip-24.1.2\n",
            "Successfully installed pip-25.1.1\n",
            "Collecting apache-tvm\n",
            "  Downloading apache_tvm-0.14.dev273-cp311-cp311-manylinux_2_17_x86_64.manylinux2014_x86_64.whl.metadata (8.3 kB)\n",
            "Requirement already satisfied: attrs in /usr/local/lib/python3.11/dist-packages (from apache-tvm) (25.3.0)\n",
            "Requirement already satisfied: cloudpickle in /usr/local/lib/python3.11/dist-packages (from apache-tvm) (3.1.1)\n",
            "Requirement already satisfied: decorator in /usr/local/lib/python3.11/dist-packages (from apache-tvm) (4.4.2)\n",
            "Requirement already satisfied: ml-dtypes in /usr/local/lib/python3.11/dist-packages (from apache-tvm) (0.4.1)\n",
            "Requirement already satisfied: numpy in /usr/local/lib/python3.11/dist-packages (from apache-tvm) (1.26.4)\n",
            "Requirement already satisfied: psutil in /usr/local/lib/python3.11/dist-packages (from apache-tvm) (5.9.5)\n",
            "Requirement already satisfied: scipy in /usr/local/lib/python3.11/dist-packages (from apache-tvm) (1.15.3)\n",
            "Requirement already satisfied: tornado in /usr/local/lib/python3.11/dist-packages (from apache-tvm) (6.4.2)\n",
            "Requirement already satisfied: typing-extensions in /usr/local/lib/python3.11/dist-packages (from apache-tvm) (4.14.1)\n",
            "Downloading apache_tvm-0.14.dev273-cp311-cp311-manylinux_2_17_x86_64.manylinux2014_x86_64.whl (69.1 MB)\n",
            "\u001b[2K   \u001b[90m━━━━━━━━━━━━━━━━━━━━━━━━━━━━━━━━━━━━━━━━\u001b[0m \u001b[32m69.1/69.1 MB\u001b[0m \u001b[31m56.4 MB/s\u001b[0m eta \u001b[36m0:00:00\u001b[0m\n",
            "\u001b[?25hInstalling collected packages: apache-tvm\n",
            "Successfully installed apache-tvm-0.14.dev273\n"
          ]
        }
      ],
      "source": [
        "# Linux/MacOS CPU build only!\n",
        "# See tlcpack.ai for other pre-built binaries including CUDA\n",
        "!python -m pip install --upgrade pip\n",
        "!pip install apache-tvm"
      ]
    },
    {
      "cell_type": "markdown",
      "source": [
        "**Install dependencies**"
      ],
      "metadata": {
        "id": "a2Y_bTUVyJNP"
      }
    },
    {
      "cell_type": "code",
      "source": [
        "!pip3 install --user psutil xgboost cloudpickle"
      ],
      "metadata": {
        "colab": {
          "base_uri": "https://localhost:8080/"
        },
        "id": "xrGPED0SyGuh",
        "outputId": "a90fdd8b-084c-4851-efee-883b1bbd46ba"
      },
      "execution_count": null,
      "outputs": [
        {
          "output_type": "stream",
          "name": "stdout",
          "text": [
            "Requirement already satisfied: psutil in /usr/local/lib/python3.11/dist-packages (5.9.5)\n",
            "Requirement already satisfied: xgboost in /usr/local/lib/python3.11/dist-packages (2.1.4)\n",
            "Requirement already satisfied: cloudpickle in /usr/local/lib/python3.11/dist-packages (3.1.1)\n",
            "Requirement already satisfied: numpy in /usr/local/lib/python3.11/dist-packages (from xgboost) (1.26.4)\n",
            "Requirement already satisfied: nvidia-nccl-cu12 in /usr/local/lib/python3.11/dist-packages (from xgboost) (2.21.5)\n",
            "Requirement already satisfied: scipy in /usr/local/lib/python3.11/dist-packages (from xgboost) (1.15.3)\n"
          ]
        }
      ]
    },
    {
      "cell_type": "code",
      "source": [
        "import logging\n",
        "import sys\n",
        "\n",
        "import numpy as np\n",
        "import tvm\n",
        "from tvm import te\n",
        "import tvm.testing\n",
        "\n",
        "# the module is called `autotvm`\n",
        "from tvm import autotvm"
      ],
      "metadata": {
        "id": "AUfb0QILyLOO"
      },
      "execution_count": null,
      "outputs": []
    },
    {
      "cell_type": "markdown",
      "source": [
        "**Basic Matrix Multiplication with TE**"
      ],
      "metadata": {
        "id": "DUBtwclSyRO7"
      }
    },
    {
      "cell_type": "code",
      "source": [
        "def matmul_basic(N, L, M, dtype):\n",
        "\n",
        "    A = te.placeholder((N, L), name=\"A\", dtype=dtype)\n",
        "    B = te.placeholder((L, M), name=\"B\", dtype=dtype)\n",
        "\n",
        "    k = te.reduce_axis((0, L), name=\"k\")\n",
        "    C = te.compute((N, M), lambda i, j: te.sum(A[i, k] * B[k, j], axis=k), name=\"C\")\n",
        "    s = te.create_schedule(C.op)\n",
        "\n",
        "    # schedule\n",
        "    y, x = s[C].op.axis\n",
        "    k = s[C].op.reduce_axis[0]\n",
        "\n",
        "    yo, yi = s[C].split(y, 8)\n",
        "    xo, xi = s[C].split(x, 8)\n",
        "\n",
        "    s[C].reorder(yo, xo, k, yi, xi)\n",
        "\n",
        "    return s, [A, B, C]"
      ],
      "metadata": {
        "id": "gqKTI9smySah"
      },
      "execution_count": null,
      "outputs": []
    },
    {
      "cell_type": "markdown",
      "source": [
        "**A Basic Matrix Multiplication Template**"
      ],
      "metadata": {
        "id": "c9K4AC0ryaKn"
      }
    },
    {
      "cell_type": "code",
      "source": [
        "# Matmul V1: List candidate values\n",
        "@autotvm.template(\"tutorial/matmul_v1\")  # 1. use a decorator\n",
        "def matmul_v1(N, L, M, dtype):\n",
        "    A = te.placeholder((N, L), name=\"A\", dtype=dtype)\n",
        "    B = te.placeholder((L, M), name=\"B\", dtype=dtype)\n",
        "\n",
        "    k = te.reduce_axis((0, L), name=\"k\")\n",
        "    C = te.compute((N, M), lambda i, j: te.sum(A[i, k] * B[k, j], axis=k), name=\"C\")\n",
        "    s = te.create_schedule(C.op)\n",
        "\n",
        "    # schedule\n",
        "    y, x = s[C].op.axis\n",
        "    k = s[C].op.reduce_axis[0]\n",
        "\n",
        "    # 2. get the config object\n",
        "    cfg = autotvm.get_config()\n",
        "\n",
        "    # 3. define search space\n",
        "    cfg.define_knob(\"tile_y\", [1, 2, 4, 8, 16])\n",
        "    cfg.define_knob(\"tile_x\", [1, 2, 4, 8, 16])\n",
        "\n",
        "    # 4. schedule according to config\n",
        "    yo, yi = s[C].split(y, cfg[\"tile_y\"].val)\n",
        "    xo, xi = s[C].split(x, cfg[\"tile_x\"].val)\n",
        "\n",
        "    s[C].reorder(yo, xo, k, yi, xi)\n",
        "\n",
        "    return s, [A, B, C]"
      ],
      "metadata": {
        "id": "kr5ZaxRkyfLc"
      },
      "execution_count": null,
      "outputs": []
    },
    {
      "cell_type": "markdown",
      "source": [
        "**A Matrix Multiplication Template with the Advanced Parameter API**"
      ],
      "metadata": {
        "id": "fxExkpL3yraH"
      }
    },
    {
      "cell_type": "code",
      "source": [
        "@autotvm.template(\"tutorial/matmul\")\n",
        "def matmul(N, L, M, dtype):\n",
        "    A = te.placeholder((N, L), name=\"A\", dtype=dtype)\n",
        "    B = te.placeholder((L, M), name=\"B\", dtype=dtype)\n",
        "\n",
        "    k = te.reduce_axis((0, L), name=\"k\")\n",
        "    C = te.compute((N, M), lambda i, j: te.sum(A[i, k] * B[k, j], axis=k), name=\"C\")\n",
        "    s = te.create_schedule(C.op)\n",
        "\n",
        "    # schedule\n",
        "    y, x = s[C].op.axis\n",
        "    k = s[C].op.reduce_axis[0]\n",
        "\n",
        "    ##### define space begin #####\n",
        "    cfg = autotvm.get_config()\n",
        "    cfg.define_split(\"tile_y\", y, num_outputs=2)\n",
        "    cfg.define_split(\"tile_x\", x, num_outputs=2)\n",
        "    ##### define space end #####\n",
        "\n",
        "    # schedule according to config\n",
        "    yo, yi = cfg[\"tile_y\"].apply(s, C, y)\n",
        "    xo, xi = cfg[\"tile_x\"].apply(s, C, x)\n",
        "\n",
        "    s[C].reorder(yo, xo, k, yi, xi)\n",
        "\n",
        "    return s, [A, B, C]"
      ],
      "metadata": {
        "id": "Uqsmt66-yXB9"
      },
      "execution_count": null,
      "outputs": []
    },
    {
      "cell_type": "markdown",
      "source": [
        "**Auto-tuners in TVM**"
      ],
      "metadata": {
        "id": "tPW9-z55zVWG"
      }
    },
    {
      "cell_type": "code",
      "source": [
        "N, L, M = 512, 512, 512\n",
        "task = autotvm.task.create(\"tutorial/matmul\", args=(N, L, M, \"float32\"), target=\"llvm\")\n",
        "print(task.config_space)"
      ],
      "metadata": {
        "colab": {
          "base_uri": "https://localhost:8080/"
        },
        "id": "m58n6uryzWlV",
        "outputId": "c8ee6c26-6807-4842-901d-ceeb9d7a4de6"
      },
      "execution_count": null,
      "outputs": [
        {
          "output_type": "stream",
          "name": "stdout",
          "text": [
            "ConfigSpace (len=100, range_length=100, space_map=\n",
            "   0 tile_y: Split(policy=factors, product=512, num_outputs=2) len=10\n",
            "   1 tile_x: Split(policy=factors, product=512, num_outputs=2) len=10\n",
            ")\n"
          ]
        }
      ]
    },
    {
      "cell_type": "code",
      "source": [
        "# logging config (for printing tuning log to the screen)\n",
        "logging.getLogger(\"autotvm\").setLevel(logging.DEBUG)\n",
        "logging.getLogger(\"autotvm\").addHandler(logging.StreamHandler(sys.stdout))"
      ],
      "metadata": {
        "id": "TZJjE5u4zfuD"
      },
      "execution_count": null,
      "outputs": []
    },
    {
      "cell_type": "code",
      "source": [
        "measure_option = autotvm.measure_option(builder=\"local\", runner=autotvm.LocalRunner(number=5))\n",
        "\n",
        "# Begin tuning with RandomTuner, log records to file `matmul.log`\n",
        "# You can use alternatives like XGBTuner.\n",
        "tuner = autotvm.tuner.RandomTuner(task)\n",
        "tuner.tune(\n",
        "    n_trial=10,\n",
        "    measure_option=measure_option,\n",
        "    callbacks=[autotvm.callback.log_to_file(\"matmul.log\")],\n",
        ")"
      ],
      "metadata": {
        "id": "IlRXcurnziPh",
        "colab": {
          "base_uri": "https://localhost:8080/"
        },
        "outputId": "ba5fc72a-41c3-472a-d5a0-7e17a93e1905"
      },
      "execution_count": null,
      "outputs": [
        {
          "output_type": "stream",
          "name": "stdout",
          "text": [
            "waiting for device...\n"
          ]
        },
        {
          "output_type": "stream",
          "name": "stderr",
          "text": [
            "DEBUG:autotvm:waiting for device...\n"
          ]
        },
        {
          "output_type": "stream",
          "name": "stdout",
          "text": [
            "device available\n"
          ]
        },
        {
          "output_type": "stream",
          "name": "stderr",
          "text": [
            "DEBUG:autotvm:device available\n"
          ]
        },
        {
          "output_type": "stream",
          "name": "stdout",
          "text": [
            "Get devices for measurement successfully!\n"
          ]
        },
        {
          "output_type": "stream",
          "name": "stderr",
          "text": [
            "INFO:autotvm:Get devices for measurement successfully!\n"
          ]
        },
        {
          "output_type": "stream",
          "name": "stdout",
          "text": [
            "No: 1\tGFLOPS: 9.50/9.50\tresult: MeasureResult(costs=(0.0282559126,), error_no=0, all_cost=1.5390675067901611, timestamp=1752211667.752968)\t[('tile_y', [-1, 2]), ('tile_x', [-1, 128])],None,71\n"
          ]
        },
        {
          "output_type": "stream",
          "name": "stderr",
          "text": [
            "DEBUG:autotvm:No: 1\tGFLOPS: 9.50/9.50\tresult: MeasureResult(costs=(0.0282559126,), error_no=0, all_cost=1.5390675067901611, timestamp=1752211667.752968)\t[('tile_y', [-1, 2]), ('tile_x', [-1, 128])],None,71\n"
          ]
        },
        {
          "output_type": "stream",
          "name": "stdout",
          "text": [
            "No: 2\tGFLOPS: 2.68/9.50\tresult: MeasureResult(costs=(0.1001951884,), error_no=0, all_cost=2.0600357055664062, timestamp=1752211669.627498)\t[('tile_y', [-1, 64]), ('tile_x', [-1, 8])],None,36\n"
          ]
        },
        {
          "output_type": "stream",
          "name": "stderr",
          "text": [
            "DEBUG:autotvm:No: 2\tGFLOPS: 2.68/9.50\tresult: MeasureResult(costs=(0.1001951884,), error_no=0, all_cost=2.0600357055664062, timestamp=1752211669.627498)\t[('tile_y', [-1, 64]), ('tile_x', [-1, 8])],None,36\n"
          ]
        },
        {
          "output_type": "stream",
          "name": "stdout",
          "text": [
            "No: 3\tGFLOPS: 1.52/9.50\tresult: MeasureResult(costs=(0.1761797076,), error_no=0, all_cost=3.138453245162964, timestamp=1752211672.9152539)\t[('tile_y', [-1, 512]), ('tile_x', [-1, 4])],None,29\n"
          ]
        },
        {
          "output_type": "stream",
          "name": "stderr",
          "text": [
            "DEBUG:autotvm:No: 3\tGFLOPS: 1.52/9.50\tresult: MeasureResult(costs=(0.1761797076,), error_no=0, all_cost=3.138453245162964, timestamp=1752211672.9152539)\t[('tile_y', [-1, 512]), ('tile_x', [-1, 4])],None,29\n"
          ]
        },
        {
          "output_type": "stream",
          "name": "stdout",
          "text": [
            "No: 4\tGFLOPS: 1.43/9.50\tresult: MeasureResult(costs=(0.1879282398,), error_no=0, all_cost=3.3045709133148193, timestamp=1752211676.173456)\t[('tile_y', [-1, 64]), ('tile_x', [-1, 4])],None,26\n"
          ]
        },
        {
          "output_type": "stream",
          "name": "stderr",
          "text": [
            "DEBUG:autotvm:No: 4\tGFLOPS: 1.43/9.50\tresult: MeasureResult(costs=(0.1879282398,), error_no=0, all_cost=3.3045709133148193, timestamp=1752211676.173456)\t[('tile_y', [-1, 64]), ('tile_x', [-1, 4])],None,26\n"
          ]
        },
        {
          "output_type": "stream",
          "name": "stdout",
          "text": [
            "No: 5\tGFLOPS: 6.51/9.50\tresult: MeasureResult(costs=(0.0412316204,), error_no=0, all_cost=1.3278255462646484, timestamp=1752211677.710042)\t[('tile_y', [-1, 16]), ('tile_x', [-1, 512])],None,94\n"
          ]
        },
        {
          "output_type": "stream",
          "name": "stderr",
          "text": [
            "DEBUG:autotvm:No: 5\tGFLOPS: 6.51/9.50\tresult: MeasureResult(costs=(0.0412316204,), error_no=0, all_cost=1.3278255462646484, timestamp=1752211677.710042)\t[('tile_y', [-1, 16]), ('tile_x', [-1, 512])],None,94\n"
          ]
        },
        {
          "output_type": "stream",
          "name": "stdout",
          "text": [
            "No: 6\tGFLOPS: 11.58/11.58\tresult: MeasureResult(costs=(0.023189751,), error_no=0, all_cost=1.0741856098175049, timestamp=1752211678.3375347)\t[('tile_y', [-1, 32]), ('tile_x', [-1, 64])],None,65\n"
          ]
        },
        {
          "output_type": "stream",
          "name": "stderr",
          "text": [
            "DEBUG:autotvm:No: 6\tGFLOPS: 11.58/11.58\tresult: MeasureResult(costs=(0.023189751,), error_no=0, all_cost=1.0741856098175049, timestamp=1752211678.3375347)\t[('tile_y', [-1, 32]), ('tile_x', [-1, 64])],None,65\n"
          ]
        },
        {
          "output_type": "stream",
          "name": "stdout",
          "text": [
            "No: 7\tGFLOPS: 10.81/11.58\tresult: MeasureResult(costs=(0.0248224996,), error_no=0, all_cost=0.7989456653594971, timestamp=1752211679.2609417)\t[('tile_y', [-1, 128]), ('tile_x', [-1, 64])],None,67\n"
          ]
        },
        {
          "output_type": "stream",
          "name": "stderr",
          "text": [
            "DEBUG:autotvm:No: 7\tGFLOPS: 10.81/11.58\tresult: MeasureResult(costs=(0.0248224996,), error_no=0, all_cost=0.7989456653594971, timestamp=1752211679.2609417)\t[('tile_y', [-1, 128]), ('tile_x', [-1, 64])],None,67\n"
          ]
        },
        {
          "output_type": "stream",
          "name": "stdout",
          "text": [
            "No: 8\tGFLOPS: 10.84/11.58\tresult: MeasureResult(costs=(0.024761730399999998,), error_no=0, all_cost=0.8073360919952393, timestamp=1752211679.9346428)\t[('tile_y', [-1, 32]), ('tile_x', [-1, 256])],None,85\n"
          ]
        },
        {
          "output_type": "stream",
          "name": "stderr",
          "text": [
            "DEBUG:autotvm:No: 8\tGFLOPS: 10.84/11.58\tresult: MeasureResult(costs=(0.024761730399999998,), error_no=0, all_cost=0.8073360919952393, timestamp=1752211679.9346428)\t[('tile_y', [-1, 32]), ('tile_x', [-1, 256])],None,85\n"
          ]
        },
        {
          "output_type": "stream",
          "name": "stdout",
          "text": [
            "No: 9\tGFLOPS: 0.77/11.58\tresult: MeasureResult(costs=(0.3473268688,), error_no=0, all_cost=5.884622573852539, timestamp=1752211686.1256928)\t[('tile_y', [-1, 32]), ('tile_x', [-1, 2])],None,15\n"
          ]
        },
        {
          "output_type": "stream",
          "name": "stderr",
          "text": [
            "DEBUG:autotvm:No: 9\tGFLOPS: 0.77/11.58\tresult: MeasureResult(costs=(0.3473268688,), error_no=0, all_cost=5.884622573852539, timestamp=1752211686.1256928)\t[('tile_y', [-1, 32]), ('tile_x', [-1, 2])],None,15\n"
          ]
        },
        {
          "output_type": "stream",
          "name": "stdout",
          "text": [
            "No: 10\tGFLOPS: 9.57/11.58\tresult: MeasureResult(costs=(0.028058876600000004,), error_no=0, all_cost=0.9659364223480225, timestamp=1752211686.8450854)\t[('tile_y', [-1, 256]), ('tile_x', [-1, 128])],None,78\n"
          ]
        },
        {
          "output_type": "stream",
          "name": "stderr",
          "text": [
            "DEBUG:autotvm:No: 10\tGFLOPS: 9.57/11.58\tresult: MeasureResult(costs=(0.028058876600000004,), error_no=0, all_cost=0.9659364223480225, timestamp=1752211686.8450854)\t[('tile_y', [-1, 256]), ('tile_x', [-1, 128])],None,78\n"
          ]
        }
      ]
    },
    {
      "cell_type": "code",
      "source": [
        "# apply history best from log file\n",
        "with autotvm.apply_history_best(\"matmul.log\"):\n",
        "    with tvm.target.Target(\"llvm\"):\n",
        "        s, arg_bufs = matmul(N, L, M, \"float32\")\n",
        "        func = tvm.build(s, arg_bufs)\n",
        "\n",
        "# check correctness\n",
        "a_np = np.random.uniform(size=(N, L)).astype(np.float32)\n",
        "b_np = np.random.uniform(size=(L, M)).astype(np.float32)\n",
        "c_np = a_np.dot(b_np)\n",
        "\n",
        "c_tvm = tvm.nd.empty(c_np.shape)\n",
        "func(tvm.nd.array(a_np), tvm.nd.array(b_np), c_tvm)\n",
        "\n",
        "tvm.testing.assert_allclose(c_np, c_tvm.numpy(), rtol=1e-4)"
      ],
      "metadata": {
        "colab": {
          "base_uri": "https://localhost:8080/"
        },
        "id": "XCwqjc0azo--",
        "outputId": "5a98e1d3-1ba2-48c4-fc4f-e16727c80bbb"
      },
      "execution_count": null,
      "outputs": [
        {
          "output_type": "stream",
          "name": "stdout",
          "text": [
            "Finish loading 10 records\n"
          ]
        },
        {
          "output_type": "stream",
          "name": "stderr",
          "text": [
            "DEBUG:autotvm:Finish loading 10 records\n"
          ]
        }
      ]
    },
    {
      "cell_type": "code",
      "source": [
        "print(tvm.lower(s, arg_bufs, simple_mode=True))"
      ],
      "metadata": {
        "colab": {
          "base_uri": "https://localhost:8080/"
        },
        "id": "tXG3K6UVjDal",
        "outputId": "c0ae385c-3a41-4e8a-c1f4-4a969177ce8b"
      },
      "execution_count": null,
      "outputs": [
        {
          "output_type": "stream",
          "name": "stdout",
          "text": [
            "# from tvm.script import ir as I\n",
            "# from tvm.script import tir as T\n",
            "\n",
            "@I.ir_module\n",
            "class Module:\n",
            "    @T.prim_func\n",
            "    def main(A: T.Buffer((512, 512), \"float32\"), B: T.Buffer((512, 512), \"float32\"), C: T.Buffer((512, 512), \"float32\")):\n",
            "        T.func_attr({\"from_legacy_te_schedule\": T.bool(True), \"tir.noalias\": T.bool(True)})\n",
            "        for i_outer, j_outer in T.grid(16, 8):\n",
            "            C_1 = T.Buffer((262144,), data=C.data)\n",
            "            for i_inner_init, j_inner_init in T.grid(32, 64):\n",
            "                C_1[i_outer * 16384 + i_inner_init * 512 + j_outer * 64 + j_inner_init] = T.float32(0)\n",
            "            for k, i_inner, j_inner in T.grid(512, 32, 64):\n",
            "                cse_var_3: T.int32 = j_outer * 64\n",
            "                cse_var_2: T.int32 = i_outer * 16384 + i_inner * 512\n",
            "                cse_var_1: T.int32 = cse_var_2 + cse_var_3 + j_inner\n",
            "                A_1 = T.Buffer((262144,), data=A.data)\n",
            "                B_1 = T.Buffer((262144,), data=B.data)\n",
            "                C_1[cse_var_1] = C_1[cse_var_1] + A_1[cse_var_2 + k] * B_1[k * 512 + cse_var_3 + j_inner]\n"
          ]
        }
      ]
    }
  ]
}
